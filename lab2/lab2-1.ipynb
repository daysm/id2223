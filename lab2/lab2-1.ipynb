{
  "nbformat": 4,
  "nbformat_minor": 0,
  "metadata": {
    "kernelspec": {
      "display_name": "Python 3",
      "language": "python",
      "name": "python3"
    },
    "language_info": {
      "codemirror_mode": {
        "name": "ipython",
        "version": 3
      },
      "file_extension": ".py",
      "mimetype": "text/x-python",
      "name": "python",
      "nbconvert_exporter": "python",
      "pygments_lexer": "ipython3",
      "version": "3.7.3"
    },
    "colab": {
      "name": "lab2-1.ipynb",
      "provenance": [],
      "toc_visible": true,
      "machine_shape": "hm",
      "include_colab_link": true
    }
  },
  "cells": [
    {
      "cell_type": "markdown",
      "metadata": {
        "id": "view-in-github",
        "colab_type": "text"
      },
      "source": [
        "<a href=\"https://colab.research.google.com/github/daysm/id2223/blob/master/lab2/lab2-1.ipynb\" target=\"_parent\"><img src=\"https://colab.research.google.com/assets/colab-badge.svg\" alt=\"Open In Colab\"/></a>"
      ]
    },
    {
      "cell_type": "markdown",
      "metadata": {
        "id": "AcBIOH4o-59p",
        "colab_type": "text"
      },
      "source": [
        "# Going Deeper with convolutions"
      ]
    },
    {
      "cell_type": "markdown",
      "metadata": {
        "id": "Np2yn6zw-59q",
        "colab_type": "text"
      },
      "source": [
        "Before **Inception v1** (**GoogLeNet**), which is the winner of the **ILSVRC** (ImageNet Large Scale Visual Recognition Competition) in 2014, most popular CNNs just stacked convolution layers deeper and deeper, hoping to get better performance.\n",
        "The Inception network, however, uses a lot of tricks to improve performance in terms of speed and accuracy.\n",
        "Compared to other networks, **Inception v1** has significant improvement over **ZFNet** (the winner in 2013) and **AlexNet** (the winner in 2012), and has relatively lower error rate compared with the VGGNet.\n",
        "\n",
        "In this task, we will be implementing the inception architecture [in this paper](https://arxiv.org/abs/1409.4842) with TensorFlow/Keras. \n",
        "\n",
        "The goal of this task is to understand how to write code to build the model, as long as you can verify the correctness of the code (e.g., through Keras model summary), it is not necessary to train the model."
      ]
    },
    {
      "cell_type": "markdown",
      "metadata": {
        "id": "olwVD3GX-59r",
        "colab_type": "text"
      },
      "source": [
        "## Set up environment"
      ]
    },
    {
      "cell_type": "code",
      "metadata": {
        "id": "UseWC2R6-59s",
        "colab_type": "code",
        "colab": {}
      },
      "source": [
        "!pip install wandb -q"
      ],
      "execution_count": 0,
      "outputs": []
    },
    {
      "cell_type": "code",
      "metadata": {
        "scrolled": true,
        "id": "nl2ANaEP-59u",
        "colab_type": "code",
        "colab": {
          "base_uri": "https://localhost:8080/",
          "height": 34
        },
        "outputId": "3d8eb29a-edb4-494f-fa9a-0e56560b43bf"
      },
      "source": [
        "import wandb\n",
        "\n",
        "wandb.login()"
      ],
      "execution_count": 2,
      "outputs": [
        {
          "output_type": "execute_result",
          "data": {
            "text/plain": [
              "True"
            ]
          },
          "metadata": {
            "tags": []
          },
          "execution_count": 2
        }
      ]
    },
    {
      "cell_type": "code",
      "metadata": {
        "id": "6aJbDotB-59w",
        "colab_type": "code",
        "colab": {
          "base_uri": "https://localhost:8080/",
          "height": 85
        },
        "outputId": "31d84e11-c43e-4e61-8448-62e165bb5409"
      },
      "source": [
        "wandb.init(entity = \"daysm\", project = \"id2223-lab2-1\")"
      ],
      "execution_count": 3,
      "outputs": [
        {
          "output_type": "display_data",
          "data": {
            "text/html": [
              "\n",
              "                Logging results to <a href=\"https://wandb.com\" target=\"_blank\">Weights & Biases</a> <a href=\"https://docs.wandb.com/integrations/jupyter.html\" target=\"_blank\">(Documentation)</a>.<br/>\n",
              "                Project page: <a href=\"https://app.wandb.ai/daysm/id2223-lab2-1\" target=\"_blank\">https://app.wandb.ai/daysm/id2223-lab2-1</a><br/>\n",
              "                Run page: <a href=\"https://app.wandb.ai/daysm/id2223-lab2-1/runs/ar7wgoqq\" target=\"_blank\">https://app.wandb.ai/daysm/id2223-lab2-1/runs/ar7wgoqq</a><br/>\n",
              "            "
            ],
            "text/plain": [
              "<IPython.core.display.HTML object>"
            ]
          },
          "metadata": {
            "tags": []
          }
        },
        {
          "output_type": "execute_result",
          "data": {
            "text/plain": [
              "W&B Run: https://app.wandb.ai/daysm/id2223-lab2-1/runs/ar7wgoqq"
            ]
          },
          "metadata": {
            "tags": []
          },
          "execution_count": 3
        }
      ]
    },
    {
      "cell_type": "code",
      "metadata": {
        "id": "S-rkkmJJ_FTE",
        "colab_type": "code",
        "colab": {
          "base_uri": "https://localhost:8080/",
          "height": 34
        },
        "outputId": "15fcc5bb-3e0b-4a96-a903-59ca633153a7"
      },
      "source": [
        "try:\n",
        "  # %tensorflow_version only exists in Colab.\n",
        "  %tensorflow_version 2.x\n",
        "except Exception:\n",
        "  pass\n",
        "import tensorflow as tf"
      ],
      "execution_count": 4,
      "outputs": [
        {
          "output_type": "stream",
          "text": [
            "TensorFlow 2.x selected.\n"
          ],
          "name": "stdout"
        }
      ]
    },
    {
      "cell_type": "markdown",
      "metadata": {
        "id": "NclwtUTe-59y",
        "colab_type": "text"
      },
      "source": [
        "## The inception architecture"
      ]
    },
    {
      "cell_type": "markdown",
      "metadata": {
        "id": "oZ9ltwrw-59z",
        "colab_type": "text"
      },
      "source": [
        "### The inception module"
      ]
    },
    {
      "cell_type": "markdown",
      "metadata": {
        "id": "jUncYsYf-590",
        "colab_type": "text"
      },
      "source": [
        "![](https://images.deepai.org/django-summernote/2019-06-18/2cec735b-2347-4ded-ae2b-e8a8384f7b46.png)"
      ]
    },
    {
      "cell_type": "code",
      "metadata": {
        "id": "5wNb8XDF-590",
        "colab_type": "code",
        "colab": {}
      },
      "source": [
        "import tensorflow as tf\n",
        "from tensorflow.keras.models import Model\n",
        "from tensorflow.keras.layers import Conv2D, MaxPool2D, Dropout, Dense, Input, concatenate, GlobalAveragePooling2D, AveragePooling2D, Flatten"
      ],
      "execution_count": 0,
      "outputs": []
    },
    {
      "cell_type": "code",
      "metadata": {
        "id": "iO4WAgko-592",
        "colab_type": "code",
        "colab": {}
      },
      "source": [
        "def inception_module(x,\n",
        "            filters_1x1,\n",
        "            filters_3x3_reduce,\n",
        "            filters_3x3,\n",
        "            filters_5x5_reduce,\n",
        "            filters_5x5,\n",
        "            filters_pool_proj,\n",
        "            kernel_initializer=tf.keras.initializers.glorot_uniform(),\n",
        "            bias_initializer=tf.keras.initializers.Constant(value=0.2),\n",
        "            name=None):\n",
        "    \n",
        "    conv_1x1 = Conv2D(filters_1x1, (1, 1), padding='same', activation='relu', kernel_initializer=kernel_initializer, bias_initializer=bias_initializer, name=name+\"_conv_1x1\")(x)\n",
        "    \n",
        "    conv_3x3_reduce = Conv2D(filters_3x3_reduce, (1, 1), padding='same', activation='relu', kernel_initializer=kernel_initializer, bias_initializer=bias_initializer, name=name+\"_conv_3x3_reduce\")(x)\n",
        "    conv_3x3 = Conv2D(filters_3x3, (3, 3), padding='same', activation='relu', kernel_initializer=kernel_initializer, bias_initializer=bias_initializer, name=name+\"_conv_3x3\")(conv_3x3_reduce)\n",
        "\n",
        "    conv_5x5_reduce = Conv2D(filters_5x5_reduce, (1, 1), padding='same', activation='relu', kernel_initializer=kernel_init, bias_initializer=bias_initializer, name=name+\"_conv_5x5_reduce\")(x)\n",
        "    conv_5x5 = Conv2D(filters_5x5, (5, 5), padding='same', activation='relu', kernel_initializer=kernel_initializer, bias_initializer=bias_initializer, name=name+\"_conv_5x5\")(conv_5x5_reduce)\n",
        "\n",
        "    max_pool_3x3 = MaxPool2D((3, 3), strides=(1, 1), padding='same', name=name+\"_max_pool_3x3\")(x)\n",
        "    pool_proj = Conv2D(filters_pool_proj, (1, 1), padding='same', activation='relu', kernel_initializer=kernel_initializer, bias_initializer=bias_initializer, name=name+\"_pool_proj\")(max_pool_3x3)\n",
        "\n",
        "    output = concatenate([conv_1x1, conv_3x3, conv_5x5, pool_proj], axis=3, name=name)\n",
        "    \n",
        "    return output"
      ],
      "execution_count": 0,
      "outputs": []
    },
    {
      "cell_type": "markdown",
      "metadata": {
        "id": "rLgwZN-5-594",
        "colab_type": "text"
      },
      "source": [
        "### Stacking inception modules"
      ]
    },
    {
      "cell_type": "markdown",
      "metadata": {
        "id": "Mr6nS-2dlcbW",
        "colab_type": "text"
      },
      "source": [
        "To be able to train on the CIFAR10 dataset, our architecture differs slightly from the original GoogLeNet.\n",
        "The last dense layer determining the output (including for the auxilliary classifiers) has 10 neurons (instead of the 1000 that are necessary for ImageNet)."
      ]
    },
    {
      "cell_type": "markdown",
      "metadata": {
        "id": "eT0Xw5lI-594",
        "colab_type": "text"
      },
      "source": [
        "![](https://s3-ap-south-1.amazonaws.com/av-blog-media/wp-content/uploads/2018/10/googlenet.png)"
      ]
    },
    {
      "cell_type": "code",
      "metadata": {
        "id": "xzNRcr0b-595",
        "colab_type": "code",
        "colab": {}
      },
      "source": [
        "kernel_init = tf.keras.initializers.glorot_uniform()\n",
        "bias_init = tf.keras.initializers.Constant(value=0.2)"
      ],
      "execution_count": 0,
      "outputs": []
    },
    {
      "cell_type": "code",
      "metadata": {
        "scrolled": false,
        "id": "Es2ChCHs-597",
        "colab_type": "code",
        "colab": {
          "base_uri": "https://localhost:8080/",
          "height": 1000
        },
        "outputId": "e505c286-63c7-4e25-d4d2-af90c3796ca9"
      },
      "source": [
        "input_layer = Input(shape=(224, 224, 3), name='input')\n",
        "\n",
        "# 1\n",
        "x = Conv2D(64, (7, 7), padding='same', strides=(2, 2), activation='relu', name='1_conv_7x7/2', kernel_initializer=kernel_init, bias_initializer=bias_init)(input_layer)\n",
        "x = MaxPool2D((3, 3), padding='same', strides=(2, 2), name='1_max_pool_3x3/2')(x)\n",
        "\n",
        "# 2\n",
        "x = Conv2D(64, (1, 1), padding='same', strides=(1, 1), activation='relu', name='2_conv_1x1/1')(x)\n",
        "x = Conv2D(192, (3, 3), padding='same', strides=(1, 1), activation='relu', name='2_conv_3x3/1')(x)\n",
        "x = MaxPool2D((3, 3), padding='same', strides=(2, 2), name='2_max_pool_3x3/2')(x)\n",
        "\n",
        "# 3a\n",
        "x = inception_module(x,\n",
        "                     filters_1x1=64,\n",
        "                     filters_3x3_reduce=96,\n",
        "                     filters_3x3=128,\n",
        "                     filters_5x5_reduce=16,\n",
        "                     filters_5x5=32,\n",
        "                     filters_pool_proj=32,\n",
        "                     kernel_initializer=kernel_init,\n",
        "                     bias_initializer=bias_init,\n",
        "                     name='3a_inception')\n",
        "# 3b\n",
        "x = inception_module(x,\n",
        "                     filters_1x1=128,\n",
        "                     filters_3x3_reduce=128,\n",
        "                     filters_3x3=192,\n",
        "                     filters_5x5_reduce=32,\n",
        "                     filters_5x5=96,\n",
        "                     filters_pool_proj=64,\n",
        "                     kernel_initializer=kernel_init,\n",
        "                     bias_initializer=bias_init,\n",
        "                     name='3b_inception')\n",
        "\n",
        "x = MaxPool2D((3, 3), padding='same', strides=(2, 2), name='3_max_pool_3x3/2')(x)\n",
        "\n",
        "# 4a\n",
        "x = inception_module(x,\n",
        "                     filters_1x1=192,\n",
        "                     filters_3x3_reduce=96,\n",
        "                     filters_3x3=208,\n",
        "                     filters_5x5_reduce=16,\n",
        "                     filters_5x5=48,\n",
        "                     filters_pool_proj=64,\n",
        "                     kernel_initializer=kernel_init,\n",
        "                     bias_initializer=bias_init,\n",
        "                     name='4a_inception')\n",
        "\n",
        "# 1st auxilliary classifier\n",
        "x1 = AveragePooling2D((5, 5), strides=3, name='aux1_avg_pool_5x5')(x)\n",
        "x1 = Conv2D(128, (1, 1), padding='same', activation='relu', name='aux1_conv_1x1_reduce')(x1)\n",
        "x1 = Flatten(name='aux1_flatten')(x1)\n",
        "x1 = Dense(1024, activation='relu', name='aux1_dense')(x1)\n",
        "x1 = Dropout(0.7, name='aux1_dropout')(x1)\n",
        "x1 = Dense(10, activation='softmax', name='aux1_output')(x1)\n",
        "\n",
        "# 4b\n",
        "x = inception_module(x,\n",
        "                     filters_1x1=160,\n",
        "                     filters_3x3_reduce=112,\n",
        "                     filters_3x3=224,\n",
        "                     filters_5x5_reduce=24,\n",
        "                     filters_5x5=64,\n",
        "                     filters_pool_proj=64,\n",
        "                     kernel_initializer=kernel_init,\n",
        "                     bias_initializer=bias_init,\n",
        "                     name='4b_inception')\n",
        "\n",
        "#4c\n",
        "x = inception_module(x,\n",
        "                     filters_1x1=128,\n",
        "                     filters_3x3_reduce=128,\n",
        "                     filters_3x3=256,\n",
        "                     filters_5x5_reduce=24,\n",
        "                     filters_5x5=64,\n",
        "                     filters_pool_proj=64,\n",
        "                     kernel_initializer=kernel_init,\n",
        "                     bias_initializer=bias_init,\n",
        "                     name='4c_inception')\n",
        "\n",
        "#4d\n",
        "x = inception_module(x,\n",
        "                     filters_1x1=112,\n",
        "                     filters_3x3_reduce=144,\n",
        "                     filters_3x3=288,\n",
        "                     filters_5x5_reduce=32,\n",
        "                     filters_5x5=64,\n",
        "                     filters_pool_proj=64,\n",
        "                     kernel_initializer=kernel_init,\n",
        "                     bias_initializer=bias_init,\n",
        "                     name='4d_inception')\n",
        "\n",
        "# 2nd auxilliary classifier\n",
        "x2 = AveragePooling2D((5, 5), strides=3, name='aux2_avg_pool_5x5')(x)\n",
        "x2 = Conv2D(128, (1, 1), padding='same', activation='relu', name='aux2_conv_1x1_reduce')(x2)\n",
        "x2 = Flatten(name='aux2_flatten')(x2)\n",
        "x2 = Dense(1024, activation='relu', name='aux2_dense')(x2)\n",
        "x2 = Dropout(0.7, name='aux2_dropout')(x2)\n",
        "x2 = Dense(10, activation='softmax', name='aux2_output')(x2)\n",
        "\n",
        "\n",
        "# 4e\n",
        "x = inception_module(x,\n",
        "                     filters_1x1=256,\n",
        "                     filters_3x3_reduce=160,\n",
        "                     filters_3x3=320,\n",
        "                     filters_5x5_reduce=32,\n",
        "                     filters_5x5=128,\n",
        "                     filters_pool_proj=128,\n",
        "                     kernel_initializer=kernel_init,\n",
        "                     bias_initializer=bias_init,\n",
        "                     name='4e_inception')\n",
        "\n",
        "x = MaxPool2D((3, 3), padding='same', strides=(2, 2), name='4_max_pool_4_3x3/2')(x)\n",
        "\n",
        "# 5a\n",
        "x = inception_module(x,\n",
        "                     filters_1x1=256,\n",
        "                     filters_3x3_reduce=160,\n",
        "                     filters_3x3=320,\n",
        "                     filters_5x5_reduce=32,\n",
        "                     filters_5x5=128,\n",
        "                     filters_pool_proj=128,\n",
        "                     kernel_initializer=kernel_init,\n",
        "                     bias_initializer=bias_init,\n",
        "                     name='5a_inception')\n",
        "\n",
        "# 5b\n",
        "x = inception_module(x,\n",
        "                     filters_1x1=384,\n",
        "                     filters_3x3_reduce=192,\n",
        "                     filters_3x3=384,\n",
        "                     filters_5x5_reduce=48,\n",
        "                     filters_5x5=128,\n",
        "                     filters_pool_proj=128,\n",
        "                     kernel_initializer=kernel_init,\n",
        "                     bias_initializer=bias_init,\n",
        "                     name='5b_inception')\n",
        "\n",
        "x = GlobalAveragePooling2D(name='5_avg_pool_3x3/1')(x)\n",
        "\n",
        "x = Dropout(0.4)(x)\n",
        "\n",
        "x = Dense(10, activation='softmax', name='output')(x)\n",
        "model = Model(input_layer, [x, x1, x2], name='inception_v1')\n",
        "model.summary()"
      ],
      "execution_count": 22,
      "outputs": [
        {
          "output_type": "stream",
          "text": [
            "Model: \"inception_v1\"\n",
            "__________________________________________________________________________________________________\n",
            "Layer (type)                    Output Shape         Param #     Connected to                     \n",
            "==================================================================================================\n",
            "input (InputLayer)              [(None, 224, 224, 3) 0                                            \n",
            "__________________________________________________________________________________________________\n",
            "1_conv_7x7/2 (Conv2D)           (None, 112, 112, 64) 9472        input[0][0]                      \n",
            "__________________________________________________________________________________________________\n",
            "1_max_pool_3x3/2 (MaxPooling2D) (None, 56, 56, 64)   0           1_conv_7x7/2[0][0]               \n",
            "__________________________________________________________________________________________________\n",
            "2_conv_1x1/1 (Conv2D)           (None, 56, 56, 64)   4160        1_max_pool_3x3/2[0][0]           \n",
            "__________________________________________________________________________________________________\n",
            "2_conv_3x3/1 (Conv2D)           (None, 56, 56, 192)  110784      2_conv_1x1/1[0][0]               \n",
            "__________________________________________________________________________________________________\n",
            "2_max_pool_3x3/2 (MaxPooling2D) (None, 28, 28, 192)  0           2_conv_3x3/1[0][0]               \n",
            "__________________________________________________________________________________________________\n",
            "3a_inception_conv_3x3_reduce (C (None, 28, 28, 96)   18528       2_max_pool_3x3/2[0][0]           \n",
            "__________________________________________________________________________________________________\n",
            "3a_inception_conv_5x5_reduce (C (None, 28, 28, 16)   3088        2_max_pool_3x3/2[0][0]           \n",
            "__________________________________________________________________________________________________\n",
            "3a_inception_max_pool_3x3 (MaxP (None, 28, 28, 192)  0           2_max_pool_3x3/2[0][0]           \n",
            "__________________________________________________________________________________________________\n",
            "3a_inception_conv_1x1 (Conv2D)  (None, 28, 28, 64)   12352       2_max_pool_3x3/2[0][0]           \n",
            "__________________________________________________________________________________________________\n",
            "3a_inception_conv_3x3 (Conv2D)  (None, 28, 28, 128)  110720      3a_inception_conv_3x3_reduce[0][0\n",
            "__________________________________________________________________________________________________\n",
            "3a_inception_conv_5x5 (Conv2D)  (None, 28, 28, 32)   12832       3a_inception_conv_5x5_reduce[0][0\n",
            "__________________________________________________________________________________________________\n",
            "3a_inception_pool_proj (Conv2D) (None, 28, 28, 32)   6176        3a_inception_max_pool_3x3[0][0]  \n",
            "__________________________________________________________________________________________________\n",
            "3a_inception (Concatenate)      (None, 28, 28, 256)  0           3a_inception_conv_1x1[0][0]      \n",
            "                                                                 3a_inception_conv_3x3[0][0]      \n",
            "                                                                 3a_inception_conv_5x5[0][0]      \n",
            "                                                                 3a_inception_pool_proj[0][0]     \n",
            "__________________________________________________________________________________________________\n",
            "3b_inception_conv_3x3_reduce (C (None, 28, 28, 128)  32896       3a_inception[0][0]               \n",
            "__________________________________________________________________________________________________\n",
            "3b_inception_conv_5x5_reduce (C (None, 28, 28, 32)   8224        3a_inception[0][0]               \n",
            "__________________________________________________________________________________________________\n",
            "3b_inception_max_pool_3x3 (MaxP (None, 28, 28, 256)  0           3a_inception[0][0]               \n",
            "__________________________________________________________________________________________________\n",
            "3b_inception_conv_1x1 (Conv2D)  (None, 28, 28, 128)  32896       3a_inception[0][0]               \n",
            "__________________________________________________________________________________________________\n",
            "3b_inception_conv_3x3 (Conv2D)  (None, 28, 28, 192)  221376      3b_inception_conv_3x3_reduce[0][0\n",
            "__________________________________________________________________________________________________\n",
            "3b_inception_conv_5x5 (Conv2D)  (None, 28, 28, 96)   76896       3b_inception_conv_5x5_reduce[0][0\n",
            "__________________________________________________________________________________________________\n",
            "3b_inception_pool_proj (Conv2D) (None, 28, 28, 64)   16448       3b_inception_max_pool_3x3[0][0]  \n",
            "__________________________________________________________________________________________________\n",
            "3b_inception (Concatenate)      (None, 28, 28, 480)  0           3b_inception_conv_1x1[0][0]      \n",
            "                                                                 3b_inception_conv_3x3[0][0]      \n",
            "                                                                 3b_inception_conv_5x5[0][0]      \n",
            "                                                                 3b_inception_pool_proj[0][0]     \n",
            "__________________________________________________________________________________________________\n",
            "3_max_pool_3x3/2 (MaxPooling2D) (None, 14, 14, 480)  0           3b_inception[0][0]               \n",
            "__________________________________________________________________________________________________\n",
            "4a_inception_conv_3x3_reduce (C (None, 14, 14, 96)   46176       3_max_pool_3x3/2[0][0]           \n",
            "__________________________________________________________________________________________________\n",
            "4a_inception_conv_5x5_reduce (C (None, 14, 14, 16)   7696        3_max_pool_3x3/2[0][0]           \n",
            "__________________________________________________________________________________________________\n",
            "4a_inception_max_pool_3x3 (MaxP (None, 14, 14, 480)  0           3_max_pool_3x3/2[0][0]           \n",
            "__________________________________________________________________________________________________\n",
            "4a_inception_conv_1x1 (Conv2D)  (None, 14, 14, 192)  92352       3_max_pool_3x3/2[0][0]           \n",
            "__________________________________________________________________________________________________\n",
            "4a_inception_conv_3x3 (Conv2D)  (None, 14, 14, 208)  179920      4a_inception_conv_3x3_reduce[0][0\n",
            "__________________________________________________________________________________________________\n",
            "4a_inception_conv_5x5 (Conv2D)  (None, 14, 14, 48)   19248       4a_inception_conv_5x5_reduce[0][0\n",
            "__________________________________________________________________________________________________\n",
            "4a_inception_pool_proj (Conv2D) (None, 14, 14, 64)   30784       4a_inception_max_pool_3x3[0][0]  \n",
            "__________________________________________________________________________________________________\n",
            "4a_inception (Concatenate)      (None, 14, 14, 512)  0           4a_inception_conv_1x1[0][0]      \n",
            "                                                                 4a_inception_conv_3x3[0][0]      \n",
            "                                                                 4a_inception_conv_5x5[0][0]      \n",
            "                                                                 4a_inception_pool_proj[0][0]     \n",
            "__________________________________________________________________________________________________\n",
            "4b_inception_conv_3x3_reduce (C (None, 14, 14, 112)  57456       4a_inception[0][0]               \n",
            "__________________________________________________________________________________________________\n",
            "4b_inception_conv_5x5_reduce (C (None, 14, 14, 24)   12312       4a_inception[0][0]               \n",
            "__________________________________________________________________________________________________\n",
            "4b_inception_max_pool_3x3 (MaxP (None, 14, 14, 512)  0           4a_inception[0][0]               \n",
            "__________________________________________________________________________________________________\n",
            "4b_inception_conv_1x1 (Conv2D)  (None, 14, 14, 160)  82080       4a_inception[0][0]               \n",
            "__________________________________________________________________________________________________\n",
            "4b_inception_conv_3x3 (Conv2D)  (None, 14, 14, 224)  226016      4b_inception_conv_3x3_reduce[0][0\n",
            "__________________________________________________________________________________________________\n",
            "4b_inception_conv_5x5 (Conv2D)  (None, 14, 14, 64)   38464       4b_inception_conv_5x5_reduce[0][0\n",
            "__________________________________________________________________________________________________\n",
            "4b_inception_pool_proj (Conv2D) (None, 14, 14, 64)   32832       4b_inception_max_pool_3x3[0][0]  \n",
            "__________________________________________________________________________________________________\n",
            "4b_inception (Concatenate)      (None, 14, 14, 512)  0           4b_inception_conv_1x1[0][0]      \n",
            "                                                                 4b_inception_conv_3x3[0][0]      \n",
            "                                                                 4b_inception_conv_5x5[0][0]      \n",
            "                                                                 4b_inception_pool_proj[0][0]     \n",
            "__________________________________________________________________________________________________\n",
            "4c_inception_conv_3x3_reduce (C (None, 14, 14, 128)  65664       4b_inception[0][0]               \n",
            "__________________________________________________________________________________________________\n",
            "4c_inception_conv_5x5_reduce (C (None, 14, 14, 24)   12312       4b_inception[0][0]               \n",
            "__________________________________________________________________________________________________\n",
            "4c_inception_max_pool_3x3 (MaxP (None, 14, 14, 512)  0           4b_inception[0][0]               \n",
            "__________________________________________________________________________________________________\n",
            "4c_inception_conv_1x1 (Conv2D)  (None, 14, 14, 128)  65664       4b_inception[0][0]               \n",
            "__________________________________________________________________________________________________\n",
            "4c_inception_conv_3x3 (Conv2D)  (None, 14, 14, 256)  295168      4c_inception_conv_3x3_reduce[0][0\n",
            "__________________________________________________________________________________________________\n",
            "4c_inception_conv_5x5 (Conv2D)  (None, 14, 14, 64)   38464       4c_inception_conv_5x5_reduce[0][0\n",
            "__________________________________________________________________________________________________\n",
            "4c_inception_pool_proj (Conv2D) (None, 14, 14, 64)   32832       4c_inception_max_pool_3x3[0][0]  \n",
            "__________________________________________________________________________________________________\n",
            "4c_inception (Concatenate)      (None, 14, 14, 512)  0           4c_inception_conv_1x1[0][0]      \n",
            "                                                                 4c_inception_conv_3x3[0][0]      \n",
            "                                                                 4c_inception_conv_5x5[0][0]      \n",
            "                                                                 4c_inception_pool_proj[0][0]     \n",
            "__________________________________________________________________________________________________\n",
            "4d_inception_conv_3x3_reduce (C (None, 14, 14, 144)  73872       4c_inception[0][0]               \n",
            "__________________________________________________________________________________________________\n",
            "4d_inception_conv_5x5_reduce (C (None, 14, 14, 32)   16416       4c_inception[0][0]               \n",
            "__________________________________________________________________________________________________\n",
            "4d_inception_max_pool_3x3 (MaxP (None, 14, 14, 512)  0           4c_inception[0][0]               \n",
            "__________________________________________________________________________________________________\n",
            "4d_inception_conv_1x1 (Conv2D)  (None, 14, 14, 112)  57456       4c_inception[0][0]               \n",
            "__________________________________________________________________________________________________\n",
            "4d_inception_conv_3x3 (Conv2D)  (None, 14, 14, 288)  373536      4d_inception_conv_3x3_reduce[0][0\n",
            "__________________________________________________________________________________________________\n",
            "4d_inception_conv_5x5 (Conv2D)  (None, 14, 14, 64)   51264       4d_inception_conv_5x5_reduce[0][0\n",
            "__________________________________________________________________________________________________\n",
            "4d_inception_pool_proj (Conv2D) (None, 14, 14, 64)   32832       4d_inception_max_pool_3x3[0][0]  \n",
            "__________________________________________________________________________________________________\n",
            "4d_inception (Concatenate)      (None, 14, 14, 528)  0           4d_inception_conv_1x1[0][0]      \n",
            "                                                                 4d_inception_conv_3x3[0][0]      \n",
            "                                                                 4d_inception_conv_5x5[0][0]      \n",
            "                                                                 4d_inception_pool_proj[0][0]     \n",
            "__________________________________________________________________________________________________\n",
            "4e_inception_conv_3x3_reduce (C (None, 14, 14, 160)  84640       4d_inception[0][0]               \n",
            "__________________________________________________________________________________________________\n",
            "4e_inception_conv_5x5_reduce (C (None, 14, 14, 32)   16928       4d_inception[0][0]               \n",
            "__________________________________________________________________________________________________\n",
            "4e_inception_max_pool_3x3 (MaxP (None, 14, 14, 528)  0           4d_inception[0][0]               \n",
            "__________________________________________________________________________________________________\n",
            "4e_inception_conv_1x1 (Conv2D)  (None, 14, 14, 256)  135424      4d_inception[0][0]               \n",
            "__________________________________________________________________________________________________\n",
            "4e_inception_conv_3x3 (Conv2D)  (None, 14, 14, 320)  461120      4e_inception_conv_3x3_reduce[0][0\n",
            "__________________________________________________________________________________________________\n",
            "4e_inception_conv_5x5 (Conv2D)  (None, 14, 14, 128)  102528      4e_inception_conv_5x5_reduce[0][0\n",
            "__________________________________________________________________________________________________\n",
            "4e_inception_pool_proj (Conv2D) (None, 14, 14, 128)  67712       4e_inception_max_pool_3x3[0][0]  \n",
            "__________________________________________________________________________________________________\n",
            "4e_inception (Concatenate)      (None, 14, 14, 832)  0           4e_inception_conv_1x1[0][0]      \n",
            "                                                                 4e_inception_conv_3x3[0][0]      \n",
            "                                                                 4e_inception_conv_5x5[0][0]      \n",
            "                                                                 4e_inception_pool_proj[0][0]     \n",
            "__________________________________________________________________________________________________\n",
            "4_max_pool_4_3x3/2 (MaxPooling2 (None, 7, 7, 832)    0           4e_inception[0][0]               \n",
            "__________________________________________________________________________________________________\n",
            "5a_inception_conv_3x3_reduce (C (None, 7, 7, 160)    133280      4_max_pool_4_3x3/2[0][0]         \n",
            "__________________________________________________________________________________________________\n",
            "5a_inception_conv_5x5_reduce (C (None, 7, 7, 32)     26656       4_max_pool_4_3x3/2[0][0]         \n",
            "__________________________________________________________________________________________________\n",
            "5a_inception_max_pool_3x3 (MaxP (None, 7, 7, 832)    0           4_max_pool_4_3x3/2[0][0]         \n",
            "__________________________________________________________________________________________________\n",
            "5a_inception_conv_1x1 (Conv2D)  (None, 7, 7, 256)    213248      4_max_pool_4_3x3/2[0][0]         \n",
            "__________________________________________________________________________________________________\n",
            "5a_inception_conv_3x3 (Conv2D)  (None, 7, 7, 320)    461120      5a_inception_conv_3x3_reduce[0][0\n",
            "__________________________________________________________________________________________________\n",
            "5a_inception_conv_5x5 (Conv2D)  (None, 7, 7, 128)    102528      5a_inception_conv_5x5_reduce[0][0\n",
            "__________________________________________________________________________________________________\n",
            "5a_inception_pool_proj (Conv2D) (None, 7, 7, 128)    106624      5a_inception_max_pool_3x3[0][0]  \n",
            "__________________________________________________________________________________________________\n",
            "5a_inception (Concatenate)      (None, 7, 7, 832)    0           5a_inception_conv_1x1[0][0]      \n",
            "                                                                 5a_inception_conv_3x3[0][0]      \n",
            "                                                                 5a_inception_conv_5x5[0][0]      \n",
            "                                                                 5a_inception_pool_proj[0][0]     \n",
            "__________________________________________________________________________________________________\n",
            "5b_inception_conv_3x3_reduce (C (None, 7, 7, 192)    159936      5a_inception[0][0]               \n",
            "__________________________________________________________________________________________________\n",
            "5b_inception_conv_5x5_reduce (C (None, 7, 7, 48)     39984       5a_inception[0][0]               \n",
            "__________________________________________________________________________________________________\n",
            "5b_inception_max_pool_3x3 (MaxP (None, 7, 7, 832)    0           5a_inception[0][0]               \n",
            "__________________________________________________________________________________________________\n",
            "aux1_avg_pool_5x5 (AveragePooli (None, 4, 4, 512)    0           4a_inception[0][0]               \n",
            "__________________________________________________________________________________________________\n",
            "aux2_avg_pool_5x5 (AveragePooli (None, 4, 4, 528)    0           4d_inception[0][0]               \n",
            "__________________________________________________________________________________________________\n",
            "5b_inception_conv_1x1 (Conv2D)  (None, 7, 7, 384)    319872      5a_inception[0][0]               \n",
            "__________________________________________________________________________________________________\n",
            "5b_inception_conv_3x3 (Conv2D)  (None, 7, 7, 384)    663936      5b_inception_conv_3x3_reduce[0][0\n",
            "__________________________________________________________________________________________________\n",
            "5b_inception_conv_5x5 (Conv2D)  (None, 7, 7, 128)    153728      5b_inception_conv_5x5_reduce[0][0\n",
            "__________________________________________________________________________________________________\n",
            "5b_inception_pool_proj (Conv2D) (None, 7, 7, 128)    106624      5b_inception_max_pool_3x3[0][0]  \n",
            "__________________________________________________________________________________________________\n",
            "aux1_conv_1x1_reduce (Conv2D)   (None, 4, 4, 128)    65664       aux1_avg_pool_5x5[0][0]          \n",
            "__________________________________________________________________________________________________\n",
            "aux2_conv_1x1_reduce (Conv2D)   (None, 4, 4, 128)    67712       aux2_avg_pool_5x5[0][0]          \n",
            "__________________________________________________________________________________________________\n",
            "5b_inception (Concatenate)      (None, 7, 7, 1024)   0           5b_inception_conv_1x1[0][0]      \n",
            "                                                                 5b_inception_conv_3x3[0][0]      \n",
            "                                                                 5b_inception_conv_5x5[0][0]      \n",
            "                                                                 5b_inception_pool_proj[0][0]     \n",
            "__________________________________________________________________________________________________\n",
            "aux1_flatten (Flatten)          (None, 2048)         0           aux1_conv_1x1_reduce[0][0]       \n",
            "__________________________________________________________________________________________________\n",
            "aux2_flatten (Flatten)          (None, 2048)         0           aux2_conv_1x1_reduce[0][0]       \n",
            "__________________________________________________________________________________________________\n",
            "5_avg_pool_3x3/1 (GlobalAverage (None, 1024)         0           5b_inception[0][0]               \n",
            "__________________________________________________________________________________________________\n",
            "aux1_dense (Dense)              (None, 1024)         2098176     aux1_flatten[0][0]               \n",
            "__________________________________________________________________________________________________\n",
            "aux2_dense (Dense)              (None, 1024)         2098176     aux2_flatten[0][0]               \n",
            "__________________________________________________________________________________________________\n",
            "dropout_10 (Dropout)            (None, 1024)         0           5_avg_pool_3x3/1[0][0]           \n",
            "__________________________________________________________________________________________________\n",
            "aux1_dropout (Dropout)          (None, 1024)         0           aux1_dense[0][0]                 \n",
            "__________________________________________________________________________________________________\n",
            "aux2_dropout (Dropout)          (None, 1024)         0           aux2_dense[0][0]                 \n",
            "__________________________________________________________________________________________________\n",
            "output (Dense)                  (None, 10)           10250       dropout_10[0][0]                 \n",
            "__________________________________________________________________________________________________\n",
            "aux1_output (Dense)             (None, 10)           10250       aux1_dropout[0][0]               \n",
            "__________________________________________________________________________________________________\n",
            "aux2_output (Dense)             (None, 10)           10250       aux2_dropout[0][0]               \n",
            "==================================================================================================\n",
            "Total params: 10,334,030\n",
            "Trainable params: 10,334,030\n",
            "Non-trainable params: 0\n",
            "__________________________________________________________________________________________________\n"
          ],
          "name": "stdout"
        }
      ]
    },
    {
      "cell_type": "markdown",
      "metadata": {
        "id": "QqWxaX8m-599",
        "colab_type": "text"
      },
      "source": [
        "## Training\n",
        "We will limit the train set to 10000 samples and the validation set to 2000 samples to be able to keep everything in RAM."
      ]
    },
    {
      "cell_type": "code",
      "metadata": {
        "id": "8v8bj5Hp-59_",
        "colab_type": "code",
        "colab": {}
      },
      "source": [
        "import numpy as np \n",
        "import cv2\n",
        "from tensorflow.keras.datasets import cifar10\n",
        "\n",
        "num_classes = 10\n",
        "\n",
        "def load_cifar10_data(img_rows, img_cols):\n",
        "\n",
        "    # Load cifar10 training and validation sets\n",
        "    (X_train, y_train), (X_valid, y_valid) = cifar10.load_data()\n",
        "\n",
        "    # Resize training images\n",
        "    X_train = np.array([cv2.resize(img, (img_rows,img_cols)) for img in X_train[:10000,:,:,:]]).astype('float32') / 255.0\n",
        "    X_valid = np.array([cv2.resize(img, (img_rows,img_cols)) for img in X_valid[:2000,:,:,:]]).astype('float32') / 255.0\n",
        "\n",
        "    # Transform targets to keras compatible format\n",
        "    y_train = tf.keras.utils.to_categorical(y_train[:10000], num_classes)\n",
        "    y_valid = tf.keras.utils.to_categorical(y_valid[:2000], num_classes)\n",
        "\n",
        "    return X_train, y_train, X_valid, y_valid\n",
        "\n",
        "X_train, y_train, X_test, y_test = load_cifar10_data(224, 224)"
      ],
      "execution_count": 0,
      "outputs": []
    },
    {
      "cell_type": "code",
      "metadata": {
        "id": "myNTSnF5-5-B",
        "colab_type": "code",
        "colab": {}
      },
      "source": [
        "import math \n",
        "from tensorflow.keras.optimizers import SGD \n",
        "from tensorflow.keras.callbacks import LearningRateScheduler\n",
        "\n",
        "epochs = 25\n",
        "initial_lrate = 0.01\n",
        "\n",
        "def decay(epoch, steps=100):\n",
        "    initial_lrate = 0.01\n",
        "    drop = 0.96\n",
        "    epochs_drop = 8\n",
        "    lrate = initial_lrate * math.pow(drop, math.floor((1+epoch)/epochs_drop))\n",
        "    return lrate\n",
        "\n",
        "sgd = SGD(lr=initial_lrate, momentum=0.9, nesterov=False)\n",
        "\n",
        "lr_sc = LearningRateScheduler(decay, verbose=1)\n",
        "\n",
        "model.compile(loss=['categorical_crossentropy', 'categorical_crossentropy', 'categorical_crossentropy'], loss_weights=[1, 0.3, 0.3], optimizer=sgd, metrics=['accuracy'])"
      ],
      "execution_count": 0,
      "outputs": []
    },
    {
      "cell_type": "code",
      "metadata": {
        "id": "90-hOhEU-5-D",
        "colab_type": "code",
        "colab": {
          "base_uri": "https://localhost:8080/",
          "height": 633
        },
        "outputId": "42a0f26f-528c-43c3-fc83-fb297a0c3142"
      },
      "source": [
        "from wandb.keras import WandbCallback\n",
        "\n",
        "history = model.fit(X_train, [y_train, y_train, y_train], validation_data=(X_test, [y_test, y_test, y_test]), epochs=epochs, batch_size=256, callbacks=[lr_sc, WandbCallback()])"
      ],
      "execution_count": 11,
      "outputs": [
        {
          "output_type": "stream",
          "text": [
            "Train on 10000 samples, validate on 2000 samples\n",
            "\n",
            "Epoch 00001: LearningRateScheduler reducing learning rate to 0.01.\n",
            "Epoch 1/25\n",
            "WARNING:tensorflow:Large dropout rate: 0.7 (>0.5). In TensorFlow 2.x, dropout() uses dropout rate instead of keep_prob. Please ensure that this is intended.\n",
            "WARNING:tensorflow:Large dropout rate: 0.7 (>0.5). In TensorFlow 2.x, dropout() uses dropout rate instead of keep_prob. Please ensure that this is intended.\n",
            "WARNING:tensorflow:Large dropout rate: 0.7 (>0.5). In TensorFlow 2.x, dropout() uses dropout rate instead of keep_prob. Please ensure that this is intended.\n",
            "10000/10000 [==============================] - 1394s 139ms/sample - loss: 3.8085 - output_loss: 2.4007 - aux1_output_loss: 2.3385 - aux2_output_loss: 2.3392 - output_accuracy: 0.1017 - aux1_output_accuracy: 0.1035 - aux2_output_accuracy: 0.1012 - val_loss: 3.6985 - val_output_loss: 2.3172 - val_aux1_output_loss: 2.3014 - val_aux2_output_loss: 2.3026 - val_output_accuracy: 0.0980 - val_aux1_output_accuracy: 0.1340 - val_aux2_output_accuracy: 0.0975\n",
            "\n",
            "Epoch 00002: LearningRateScheduler reducing learning rate to 0.01.\n",
            "Epoch 2/25\n",
            "10000/10000 [==============================] - 1381s 138ms/sample - loss: 3.7083 - output_loss: 2.3287 - aux1_output_loss: 2.3008 - aux2_output_loss: 2.3051 - output_accuracy: 0.1036 - aux1_output_accuracy: 0.1106 - aux2_output_accuracy: 0.1037 - val_loss: 3.7013 - val_output_loss: 2.3224 - val_aux1_output_loss: 2.2949 - val_aux2_output_loss: 2.3018 - val_output_accuracy: 0.0995 - val_aux1_output_accuracy: 0.1825 - val_aux2_output_accuracy: 0.1060\n",
            "\n",
            "Epoch 00003: LearningRateScheduler reducing learning rate to 0.01.\n",
            "Epoch 3/25\n",
            " 3072/10000 [========>.....................] - ETA: 15:13 - loss: 3.7112 - output_loss: 2.3319 - aux1_output_loss: 2.2963 - aux2_output_loss: 2.3014 - output_accuracy: 0.0962 - aux1_output_accuracy: 0.1261 - aux2_output_accuracy: 0.1072"
          ],
          "name": "stdout"
        },
        {
          "output_type": "error",
          "ename": "KeyboardInterrupt",
          "evalue": "ignored",
          "traceback": [
            "\u001b[0;31m---------------------------------------------------------------------------\u001b[0m",
            "\u001b[0;31mKeyboardInterrupt\u001b[0m                         Traceback (most recent call last)",
            "\u001b[0;32m<ipython-input-11-4b9ef20c5105>\u001b[0m in \u001b[0;36m<module>\u001b[0;34m()\u001b[0m\n\u001b[1;32m      1\u001b[0m \u001b[0;32mfrom\u001b[0m \u001b[0mwandb\u001b[0m\u001b[0;34m.\u001b[0m\u001b[0mkeras\u001b[0m \u001b[0;32mimport\u001b[0m \u001b[0mWandbCallback\u001b[0m\u001b[0;34m\u001b[0m\u001b[0;34m\u001b[0m\u001b[0m\n\u001b[1;32m      2\u001b[0m \u001b[0;34m\u001b[0m\u001b[0m\n\u001b[0;32m----> 3\u001b[0;31m \u001b[0mhistory\u001b[0m \u001b[0;34m=\u001b[0m \u001b[0mmodel\u001b[0m\u001b[0;34m.\u001b[0m\u001b[0mfit\u001b[0m\u001b[0;34m(\u001b[0m\u001b[0mX_train\u001b[0m\u001b[0;34m,\u001b[0m \u001b[0;34m[\u001b[0m\u001b[0my_train\u001b[0m\u001b[0;34m,\u001b[0m \u001b[0my_train\u001b[0m\u001b[0;34m,\u001b[0m \u001b[0my_train\u001b[0m\u001b[0;34m]\u001b[0m\u001b[0;34m,\u001b[0m \u001b[0mvalidation_data\u001b[0m\u001b[0;34m=\u001b[0m\u001b[0;34m(\u001b[0m\u001b[0mX_test\u001b[0m\u001b[0;34m,\u001b[0m \u001b[0;34m[\u001b[0m\u001b[0my_test\u001b[0m\u001b[0;34m,\u001b[0m \u001b[0my_test\u001b[0m\u001b[0;34m,\u001b[0m \u001b[0my_test\u001b[0m\u001b[0;34m]\u001b[0m\u001b[0;34m)\u001b[0m\u001b[0;34m,\u001b[0m \u001b[0mepochs\u001b[0m\u001b[0;34m=\u001b[0m\u001b[0mepochs\u001b[0m\u001b[0;34m,\u001b[0m \u001b[0mbatch_size\u001b[0m\u001b[0;34m=\u001b[0m\u001b[0;36m256\u001b[0m\u001b[0;34m,\u001b[0m \u001b[0mcallbacks\u001b[0m\u001b[0;34m=\u001b[0m\u001b[0;34m[\u001b[0m\u001b[0mlr_sc\u001b[0m\u001b[0;34m,\u001b[0m \u001b[0mWandbCallback\u001b[0m\u001b[0;34m(\u001b[0m\u001b[0;34m)\u001b[0m\u001b[0;34m]\u001b[0m\u001b[0;34m)\u001b[0m\u001b[0;34m\u001b[0m\u001b[0;34m\u001b[0m\u001b[0m\n\u001b[0m",
            "\u001b[0;32m/tensorflow-2.0.0/python3.6/tensorflow_core/python/keras/engine/training.py\u001b[0m in \u001b[0;36mfit\u001b[0;34m(self, x, y, batch_size, epochs, verbose, callbacks, validation_split, validation_data, shuffle, class_weight, sample_weight, initial_epoch, steps_per_epoch, validation_steps, validation_freq, max_queue_size, workers, use_multiprocessing, **kwargs)\u001b[0m\n\u001b[1;32m    726\u001b[0m         \u001b[0mmax_queue_size\u001b[0m\u001b[0;34m=\u001b[0m\u001b[0mmax_queue_size\u001b[0m\u001b[0;34m,\u001b[0m\u001b[0;34m\u001b[0m\u001b[0;34m\u001b[0m\u001b[0m\n\u001b[1;32m    727\u001b[0m         \u001b[0mworkers\u001b[0m\u001b[0;34m=\u001b[0m\u001b[0mworkers\u001b[0m\u001b[0;34m,\u001b[0m\u001b[0;34m\u001b[0m\u001b[0;34m\u001b[0m\u001b[0m\n\u001b[0;32m--> 728\u001b[0;31m         use_multiprocessing=use_multiprocessing)\n\u001b[0m\u001b[1;32m    729\u001b[0m \u001b[0;34m\u001b[0m\u001b[0m\n\u001b[1;32m    730\u001b[0m   def evaluate(self,\n",
            "\u001b[0;32m/usr/local/lib/python3.6/dist-packages/wandb/keras/__init__.py\u001b[0m in \u001b[0;36mnew_v2\u001b[0;34m(*args, **kwargs)\u001b[0m\n\u001b[1;32m    110\u001b[0m             \u001b[0;32mfor\u001b[0m \u001b[0mcbk\u001b[0m \u001b[0;32min\u001b[0m \u001b[0mcbks\u001b[0m\u001b[0;34m:\u001b[0m\u001b[0;34m\u001b[0m\u001b[0;34m\u001b[0m\u001b[0m\n\u001b[1;32m    111\u001b[0m                 \u001b[0mset_wandb_attrs\u001b[0m\u001b[0;34m(\u001b[0m\u001b[0mcbk\u001b[0m\u001b[0;34m,\u001b[0m \u001b[0mval_data\u001b[0m\u001b[0;34m)\u001b[0m\u001b[0;34m\u001b[0m\u001b[0;34m\u001b[0m\u001b[0m\n\u001b[0;32m--> 112\u001b[0;31m         \u001b[0;32mreturn\u001b[0m \u001b[0mold_v2\u001b[0m\u001b[0;34m(\u001b[0m\u001b[0;34m*\u001b[0m\u001b[0margs\u001b[0m\u001b[0;34m,\u001b[0m \u001b[0;34m**\u001b[0m\u001b[0mkwargs\u001b[0m\u001b[0;34m)\u001b[0m\u001b[0;34m\u001b[0m\u001b[0;34m\u001b[0m\u001b[0m\n\u001b[0m\u001b[1;32m    113\u001b[0m \u001b[0;34m\u001b[0m\u001b[0m\n\u001b[1;32m    114\u001b[0m     \u001b[0mtraining_arrays\u001b[0m\u001b[0;34m.\u001b[0m\u001b[0morig_fit_loop\u001b[0m \u001b[0;34m=\u001b[0m \u001b[0mold_arrays\u001b[0m\u001b[0;34m\u001b[0m\u001b[0;34m\u001b[0m\u001b[0m\n",
            "\u001b[0;32m/tensorflow-2.0.0/python3.6/tensorflow_core/python/keras/engine/training_v2.py\u001b[0m in \u001b[0;36mfit\u001b[0;34m(self, model, x, y, batch_size, epochs, verbose, callbacks, validation_split, validation_data, shuffle, class_weight, sample_weight, initial_epoch, steps_per_epoch, validation_steps, validation_freq, **kwargs)\u001b[0m\n\u001b[1;32m    322\u001b[0m                 \u001b[0mmode\u001b[0m\u001b[0;34m=\u001b[0m\u001b[0mModeKeys\u001b[0m\u001b[0;34m.\u001b[0m\u001b[0mTRAIN\u001b[0m\u001b[0;34m,\u001b[0m\u001b[0;34m\u001b[0m\u001b[0;34m\u001b[0m\u001b[0m\n\u001b[1;32m    323\u001b[0m                 \u001b[0mtraining_context\u001b[0m\u001b[0;34m=\u001b[0m\u001b[0mtraining_context\u001b[0m\u001b[0;34m,\u001b[0m\u001b[0;34m\u001b[0m\u001b[0;34m\u001b[0m\u001b[0m\n\u001b[0;32m--> 324\u001b[0;31m                 total_epochs=epochs)\n\u001b[0m\u001b[1;32m    325\u001b[0m             \u001b[0mcbks\u001b[0m\u001b[0;34m.\u001b[0m\u001b[0mmake_logs\u001b[0m\u001b[0;34m(\u001b[0m\u001b[0mmodel\u001b[0m\u001b[0;34m,\u001b[0m \u001b[0mepoch_logs\u001b[0m\u001b[0;34m,\u001b[0m \u001b[0mtraining_result\u001b[0m\u001b[0;34m,\u001b[0m \u001b[0mModeKeys\u001b[0m\u001b[0;34m.\u001b[0m\u001b[0mTRAIN\u001b[0m\u001b[0;34m)\u001b[0m\u001b[0;34m\u001b[0m\u001b[0;34m\u001b[0m\u001b[0m\n\u001b[1;32m    326\u001b[0m \u001b[0;34m\u001b[0m\u001b[0m\n",
            "\u001b[0;32m/tensorflow-2.0.0/python3.6/tensorflow_core/python/keras/engine/training_v2.py\u001b[0m in \u001b[0;36mrun_one_epoch\u001b[0;34m(model, iterator, execution_function, dataset_size, batch_size, strategy, steps_per_epoch, num_samples, mode, training_context, total_epochs)\u001b[0m\n\u001b[1;32m    121\u001b[0m         step=step, mode=mode, size=current_batch_size) as batch_logs:\n\u001b[1;32m    122\u001b[0m       \u001b[0;32mtry\u001b[0m\u001b[0;34m:\u001b[0m\u001b[0;34m\u001b[0m\u001b[0;34m\u001b[0m\u001b[0m\n\u001b[0;32m--> 123\u001b[0;31m         \u001b[0mbatch_outs\u001b[0m \u001b[0;34m=\u001b[0m \u001b[0mexecution_function\u001b[0m\u001b[0;34m(\u001b[0m\u001b[0miterator\u001b[0m\u001b[0;34m)\u001b[0m\u001b[0;34m\u001b[0m\u001b[0;34m\u001b[0m\u001b[0m\n\u001b[0m\u001b[1;32m    124\u001b[0m       \u001b[0;32mexcept\u001b[0m \u001b[0;34m(\u001b[0m\u001b[0mStopIteration\u001b[0m\u001b[0;34m,\u001b[0m \u001b[0merrors\u001b[0m\u001b[0;34m.\u001b[0m\u001b[0mOutOfRangeError\u001b[0m\u001b[0;34m)\u001b[0m\u001b[0;34m:\u001b[0m\u001b[0;34m\u001b[0m\u001b[0;34m\u001b[0m\u001b[0m\n\u001b[1;32m    125\u001b[0m         \u001b[0;31m# TODO(kaftan): File bug about tf function and errors.OutOfRangeError?\u001b[0m\u001b[0;34m\u001b[0m\u001b[0;34m\u001b[0m\u001b[0;34m\u001b[0m\u001b[0m\n",
            "\u001b[0;32m/tensorflow-2.0.0/python3.6/tensorflow_core/python/keras/engine/training_v2_utils.py\u001b[0m in \u001b[0;36mexecution_function\u001b[0;34m(input_fn)\u001b[0m\n\u001b[1;32m     84\u001b[0m     \u001b[0;31m# `numpy` translates Tensors to values in Eager mode.\u001b[0m\u001b[0;34m\u001b[0m\u001b[0;34m\u001b[0m\u001b[0;34m\u001b[0m\u001b[0m\n\u001b[1;32m     85\u001b[0m     return nest.map_structure(_non_none_constant_value,\n\u001b[0;32m---> 86\u001b[0;31m                               distributed_function(input_fn))\n\u001b[0m\u001b[1;32m     87\u001b[0m \u001b[0;34m\u001b[0m\u001b[0m\n\u001b[1;32m     88\u001b[0m   \u001b[0;32mreturn\u001b[0m \u001b[0mexecution_function\u001b[0m\u001b[0;34m\u001b[0m\u001b[0;34m\u001b[0m\u001b[0m\n",
            "\u001b[0;32m/tensorflow-2.0.0/python3.6/tensorflow_core/python/eager/def_function.py\u001b[0m in \u001b[0;36m__call__\u001b[0;34m(self, *args, **kwds)\u001b[0m\n\u001b[1;32m    455\u001b[0m \u001b[0;34m\u001b[0m\u001b[0m\n\u001b[1;32m    456\u001b[0m     \u001b[0mtracing_count\u001b[0m \u001b[0;34m=\u001b[0m \u001b[0mself\u001b[0m\u001b[0;34m.\u001b[0m\u001b[0m_get_tracing_count\u001b[0m\u001b[0;34m(\u001b[0m\u001b[0;34m)\u001b[0m\u001b[0;34m\u001b[0m\u001b[0;34m\u001b[0m\u001b[0m\n\u001b[0;32m--> 457\u001b[0;31m     \u001b[0mresult\u001b[0m \u001b[0;34m=\u001b[0m \u001b[0mself\u001b[0m\u001b[0;34m.\u001b[0m\u001b[0m_call\u001b[0m\u001b[0;34m(\u001b[0m\u001b[0;34m*\u001b[0m\u001b[0margs\u001b[0m\u001b[0;34m,\u001b[0m \u001b[0;34m**\u001b[0m\u001b[0mkwds\u001b[0m\u001b[0;34m)\u001b[0m\u001b[0;34m\u001b[0m\u001b[0;34m\u001b[0m\u001b[0m\n\u001b[0m\u001b[1;32m    458\u001b[0m     \u001b[0;32mif\u001b[0m \u001b[0mtracing_count\u001b[0m \u001b[0;34m==\u001b[0m \u001b[0mself\u001b[0m\u001b[0;34m.\u001b[0m\u001b[0m_get_tracing_count\u001b[0m\u001b[0;34m(\u001b[0m\u001b[0;34m)\u001b[0m\u001b[0;34m:\u001b[0m\u001b[0;34m\u001b[0m\u001b[0;34m\u001b[0m\u001b[0m\n\u001b[1;32m    459\u001b[0m       \u001b[0mself\u001b[0m\u001b[0;34m.\u001b[0m\u001b[0m_call_counter\u001b[0m\u001b[0;34m.\u001b[0m\u001b[0mcalled_without_tracing\u001b[0m\u001b[0;34m(\u001b[0m\u001b[0;34m)\u001b[0m\u001b[0;34m\u001b[0m\u001b[0;34m\u001b[0m\u001b[0m\n",
            "\u001b[0;32m/tensorflow-2.0.0/python3.6/tensorflow_core/python/eager/def_function.py\u001b[0m in \u001b[0;36m_call\u001b[0;34m(self, *args, **kwds)\u001b[0m\n\u001b[1;32m    485\u001b[0m       \u001b[0;31m# In this case we have created variables on the first call, so we run the\u001b[0m\u001b[0;34m\u001b[0m\u001b[0;34m\u001b[0m\u001b[0;34m\u001b[0m\u001b[0m\n\u001b[1;32m    486\u001b[0m       \u001b[0;31m# defunned version which is guaranteed to never create variables.\u001b[0m\u001b[0;34m\u001b[0m\u001b[0;34m\u001b[0m\u001b[0;34m\u001b[0m\u001b[0m\n\u001b[0;32m--> 487\u001b[0;31m       \u001b[0;32mreturn\u001b[0m \u001b[0mself\u001b[0m\u001b[0;34m.\u001b[0m\u001b[0m_stateless_fn\u001b[0m\u001b[0;34m(\u001b[0m\u001b[0;34m*\u001b[0m\u001b[0margs\u001b[0m\u001b[0;34m,\u001b[0m \u001b[0;34m**\u001b[0m\u001b[0mkwds\u001b[0m\u001b[0;34m)\u001b[0m  \u001b[0;31m# pylint: disable=not-callable\u001b[0m\u001b[0;34m\u001b[0m\u001b[0;34m\u001b[0m\u001b[0m\n\u001b[0m\u001b[1;32m    488\u001b[0m     \u001b[0;32melif\u001b[0m \u001b[0mself\u001b[0m\u001b[0;34m.\u001b[0m\u001b[0m_stateful_fn\u001b[0m \u001b[0;32mis\u001b[0m \u001b[0;32mnot\u001b[0m \u001b[0;32mNone\u001b[0m\u001b[0;34m:\u001b[0m\u001b[0;34m\u001b[0m\u001b[0;34m\u001b[0m\u001b[0m\n\u001b[1;32m    489\u001b[0m       \u001b[0;31m# Release the lock early so that multiple threads can perform the call\u001b[0m\u001b[0;34m\u001b[0m\u001b[0;34m\u001b[0m\u001b[0;34m\u001b[0m\u001b[0m\n",
            "\u001b[0;32m/tensorflow-2.0.0/python3.6/tensorflow_core/python/eager/function.py\u001b[0m in \u001b[0;36m__call__\u001b[0;34m(self, *args, **kwargs)\u001b[0m\n\u001b[1;32m   1821\u001b[0m     \u001b[0;34m\"\"\"Calls a graph function specialized to the inputs.\"\"\"\u001b[0m\u001b[0;34m\u001b[0m\u001b[0;34m\u001b[0m\u001b[0m\n\u001b[1;32m   1822\u001b[0m     \u001b[0mgraph_function\u001b[0m\u001b[0;34m,\u001b[0m \u001b[0margs\u001b[0m\u001b[0;34m,\u001b[0m \u001b[0mkwargs\u001b[0m \u001b[0;34m=\u001b[0m \u001b[0mself\u001b[0m\u001b[0;34m.\u001b[0m\u001b[0m_maybe_define_function\u001b[0m\u001b[0;34m(\u001b[0m\u001b[0margs\u001b[0m\u001b[0;34m,\u001b[0m \u001b[0mkwargs\u001b[0m\u001b[0;34m)\u001b[0m\u001b[0;34m\u001b[0m\u001b[0;34m\u001b[0m\u001b[0m\n\u001b[0;32m-> 1823\u001b[0;31m     \u001b[0;32mreturn\u001b[0m \u001b[0mgraph_function\u001b[0m\u001b[0;34m.\u001b[0m\u001b[0m_filtered_call\u001b[0m\u001b[0;34m(\u001b[0m\u001b[0margs\u001b[0m\u001b[0;34m,\u001b[0m \u001b[0mkwargs\u001b[0m\u001b[0;34m)\u001b[0m  \u001b[0;31m# pylint: disable=protected-access\u001b[0m\u001b[0;34m\u001b[0m\u001b[0;34m\u001b[0m\u001b[0m\n\u001b[0m\u001b[1;32m   1824\u001b[0m \u001b[0;34m\u001b[0m\u001b[0m\n\u001b[1;32m   1825\u001b[0m   \u001b[0;34m@\u001b[0m\u001b[0mproperty\u001b[0m\u001b[0;34m\u001b[0m\u001b[0;34m\u001b[0m\u001b[0m\n",
            "\u001b[0;32m/tensorflow-2.0.0/python3.6/tensorflow_core/python/eager/function.py\u001b[0m in \u001b[0;36m_filtered_call\u001b[0;34m(self, args, kwargs)\u001b[0m\n\u001b[1;32m   1139\u001b[0m          if isinstance(t, (ops.Tensor,\n\u001b[1;32m   1140\u001b[0m                            resource_variable_ops.BaseResourceVariable))),\n\u001b[0;32m-> 1141\u001b[0;31m         self.captured_inputs)\n\u001b[0m\u001b[1;32m   1142\u001b[0m \u001b[0;34m\u001b[0m\u001b[0m\n\u001b[1;32m   1143\u001b[0m   \u001b[0;32mdef\u001b[0m \u001b[0m_call_flat\u001b[0m\u001b[0;34m(\u001b[0m\u001b[0mself\u001b[0m\u001b[0;34m,\u001b[0m \u001b[0margs\u001b[0m\u001b[0;34m,\u001b[0m \u001b[0mcaptured_inputs\u001b[0m\u001b[0;34m,\u001b[0m \u001b[0mcancellation_manager\u001b[0m\u001b[0;34m=\u001b[0m\u001b[0;32mNone\u001b[0m\u001b[0;34m)\u001b[0m\u001b[0;34m:\u001b[0m\u001b[0;34m\u001b[0m\u001b[0;34m\u001b[0m\u001b[0m\n",
            "\u001b[0;32m/tensorflow-2.0.0/python3.6/tensorflow_core/python/eager/function.py\u001b[0m in \u001b[0;36m_call_flat\u001b[0;34m(self, args, captured_inputs, cancellation_manager)\u001b[0m\n\u001b[1;32m   1222\u001b[0m     \u001b[0;32mif\u001b[0m \u001b[0mexecuting_eagerly\u001b[0m\u001b[0;34m:\u001b[0m\u001b[0;34m\u001b[0m\u001b[0;34m\u001b[0m\u001b[0m\n\u001b[1;32m   1223\u001b[0m       flat_outputs = forward_function.call(\n\u001b[0;32m-> 1224\u001b[0;31m           ctx, args, cancellation_manager=cancellation_manager)\n\u001b[0m\u001b[1;32m   1225\u001b[0m     \u001b[0;32melse\u001b[0m\u001b[0;34m:\u001b[0m\u001b[0;34m\u001b[0m\u001b[0;34m\u001b[0m\u001b[0m\n\u001b[1;32m   1226\u001b[0m       \u001b[0mgradient_name\u001b[0m \u001b[0;34m=\u001b[0m \u001b[0mself\u001b[0m\u001b[0;34m.\u001b[0m\u001b[0m_delayed_rewrite_functions\u001b[0m\u001b[0;34m.\u001b[0m\u001b[0mregister\u001b[0m\u001b[0;34m(\u001b[0m\u001b[0;34m)\u001b[0m\u001b[0;34m\u001b[0m\u001b[0;34m\u001b[0m\u001b[0m\n",
            "\u001b[0;32m/tensorflow-2.0.0/python3.6/tensorflow_core/python/eager/function.py\u001b[0m in \u001b[0;36mcall\u001b[0;34m(self, ctx, args, cancellation_manager)\u001b[0m\n\u001b[1;32m    509\u001b[0m               \u001b[0minputs\u001b[0m\u001b[0;34m=\u001b[0m\u001b[0margs\u001b[0m\u001b[0;34m,\u001b[0m\u001b[0;34m\u001b[0m\u001b[0;34m\u001b[0m\u001b[0m\n\u001b[1;32m    510\u001b[0m               \u001b[0mattrs\u001b[0m\u001b[0;34m=\u001b[0m\u001b[0;34m(\u001b[0m\u001b[0;34m\"executor_type\"\u001b[0m\u001b[0;34m,\u001b[0m \u001b[0mexecutor_type\u001b[0m\u001b[0;34m,\u001b[0m \u001b[0;34m\"config_proto\"\u001b[0m\u001b[0;34m,\u001b[0m \u001b[0mconfig\u001b[0m\u001b[0;34m)\u001b[0m\u001b[0;34m,\u001b[0m\u001b[0;34m\u001b[0m\u001b[0;34m\u001b[0m\u001b[0m\n\u001b[0;32m--> 511\u001b[0;31m               ctx=ctx)\n\u001b[0m\u001b[1;32m    512\u001b[0m         \u001b[0;32melse\u001b[0m\u001b[0;34m:\u001b[0m\u001b[0;34m\u001b[0m\u001b[0;34m\u001b[0m\u001b[0m\n\u001b[1;32m    513\u001b[0m           outputs = execute.execute_with_cancellation(\n",
            "\u001b[0;32m/tensorflow-2.0.0/python3.6/tensorflow_core/python/eager/execute.py\u001b[0m in \u001b[0;36mquick_execute\u001b[0;34m(op_name, num_outputs, inputs, attrs, ctx, name)\u001b[0m\n\u001b[1;32m     59\u001b[0m     tensors = pywrap_tensorflow.TFE_Py_Execute(ctx._handle, device_name,\n\u001b[1;32m     60\u001b[0m                                                \u001b[0mop_name\u001b[0m\u001b[0;34m,\u001b[0m \u001b[0minputs\u001b[0m\u001b[0;34m,\u001b[0m \u001b[0mattrs\u001b[0m\u001b[0;34m,\u001b[0m\u001b[0;34m\u001b[0m\u001b[0;34m\u001b[0m\u001b[0m\n\u001b[0;32m---> 61\u001b[0;31m                                                num_outputs)\n\u001b[0m\u001b[1;32m     62\u001b[0m   \u001b[0;32mexcept\u001b[0m \u001b[0mcore\u001b[0m\u001b[0;34m.\u001b[0m\u001b[0m_NotOkStatusException\u001b[0m \u001b[0;32mas\u001b[0m \u001b[0me\u001b[0m\u001b[0;34m:\u001b[0m\u001b[0;34m\u001b[0m\u001b[0;34m\u001b[0m\u001b[0m\n\u001b[1;32m     63\u001b[0m     \u001b[0;32mif\u001b[0m \u001b[0mname\u001b[0m \u001b[0;32mis\u001b[0m \u001b[0;32mnot\u001b[0m \u001b[0;32mNone\u001b[0m\u001b[0;34m:\u001b[0m\u001b[0;34m\u001b[0m\u001b[0;34m\u001b[0m\u001b[0m\n",
            "\u001b[0;31mKeyboardInterrupt\u001b[0m: "
          ]
        }
      ]
    },
    {
      "cell_type": "markdown",
      "metadata": {
        "id": "V9Gbh2sRCJcH",
        "colab_type": "text"
      },
      "source": [
        "View run on [WandB](https://app.wandb.ai/daysm/id2223-lab2-1/runs/ajee4drk/overview)"
      ]
    }
  ]
}