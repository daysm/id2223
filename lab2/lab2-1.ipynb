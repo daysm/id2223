{
  "nbformat": 4,
  "nbformat_minor": 0,
  "metadata": {
    "kernelspec": {
      "name": "python3",
      "display_name": "Python 3"
    },
    "language_info": {
      "codemirror_mode": {
        "name": "ipython",
        "version": 3
      },
      "file_extension": ".py",
      "mimetype": "text/x-python",
      "name": "python",
      "nbconvert_exporter": "python",
      "pygments_lexer": "ipython3",
      "version": "3.7.3"
    },
    "colab": {
      "name": "lab2-1.ipynb",
      "provenance": [],
      "machine_shape": "hm",
      "include_colab_link": true
    },
    "accelerator": "GPU"
  },
  "cells": [
    {
      "cell_type": "markdown",
      "metadata": {
        "id": "view-in-github",
        "colab_type": "text"
      },
      "source": [
        "<a href=\"https://colab.research.google.com/github/daysm/id2223/blob/master/lab2/lab2-1.ipynb\" target=\"_parent\"><img src=\"https://colab.research.google.com/assets/colab-badge.svg\" alt=\"Open In Colab\"/></a>"
      ]
    },
    {
      "cell_type": "markdown",
      "metadata": {
        "id": "UtgaQCBnfEyY",
        "colab_type": "text"
      },
      "source": [
        "# Deep Learning with TensorFlow/Keras"
      ]
    },
    {
      "cell_type": "markdown",
      "metadata": {
        "id": "WnO8RuPjfEyb",
        "colab_type": "text"
      },
      "source": [
        "Now that we have completed a project of Machine Learning with spark ML, in this assignment, we will be switching to the context of Deep Learning with Tensorflow/Keras by two tasks:\n",
        "- Task1: Image Classification with CNN\n",
        "- Task2: Image captioning with a combination of CNN and RNN"
      ]
    },
    {
      "cell_type": "markdown",
      "metadata": {
        "id": "wSUuqe40fEyc",
        "colab_type": "text"
      },
      "source": [
        "## Task 1: Going Deeper with convolutions\n"
      ]
    },
    {
      "cell_type": "markdown",
      "metadata": {
        "id": "T7kdkaCzfEyd",
        "colab_type": "text"
      },
      "source": [
        "Before **Inception v1** (**GoogLeNet**), which is the winner of the **ILSVRC** (ImageNet Large Scale Visual Recognition Competition) in 2014, most popular CNNs just stacked convolution layers deeper and deeper, hoping to get better performance.\n",
        "The Inception network, however, uses a lot of tricks to improve performance in terms of speed and accuracy.\n",
        "Compared to other networks, **Inception v1** has significant improvement over **ZFNet** (the winner in 2013) and **AlexNet** (the winner in 2012), and has relatively lower error rate compared with the VGGNet.\n",
        "\n",
        "In this task, we will be implementing the inception architecture [in this paper](https://arxiv.org/abs/1409.4842) with TensorFlow/Keras. \n",
        "\n",
        "The goal of this task is to understand how to write code to build the model, as long as you can verify the correctness of the code (e.g., through Keras model summary), it is not necessary to train the model."
      ]
    },
    {
      "cell_type": "code",
      "metadata": {
        "id": "mWe4IMLAf2dR",
        "colab_type": "code",
        "colab": {}
      },
      "source": [
        "!pip install tensorflow==2 wandb -q"
      ],
      "execution_count": 0,
      "outputs": []
    },
    {
      "cell_type": "code",
      "metadata": {
        "id": "fhesUll3s0b7",
        "colab_type": "code",
        "colab": {
          "base_uri": "https://localhost:8080/",
          "height": 85
        },
        "outputId": "dff7628e-299b-4673-e4af-7111a68d096e"
      },
      "source": [
        "import wandb\n",
        "\n",
        "wandb.login()\n",
        "wandb.init(entity = \"daysm\", project = \"id2223-lab2-1\")"
      ],
      "execution_count": 23,
      "outputs": [
        {
          "output_type": "display_data",
          "data": {
            "text/html": [
              "\n",
              "                Logging results to <a href=\"https://wandb.com\" target=\"_blank\">Weights & Biases</a> <a href=\"https://docs.wandb.com/integrations/jupyter.html\" target=\"_blank\">(Documentation)</a>.<br/>\n",
              "                Project page: <a href=\"https://app.wandb.ai/daysm/id2223-lab2-1\" target=\"_blank\">https://app.wandb.ai/daysm/id2223-lab2-1</a><br/>\n",
              "                Run page: <a href=\"https://app.wandb.ai/daysm/id2223-lab2-1/runs/ajee4drk\" target=\"_blank\">https://app.wandb.ai/daysm/id2223-lab2-1/runs/ajee4drk</a><br/>\n",
              "            "
            ],
            "text/plain": [
              "<IPython.core.display.HTML object>"
            ]
          },
          "metadata": {
            "tags": []
          }
        },
        {
          "output_type": "execute_result",
          "data": {
            "text/plain": [
              "W&B Run: https://app.wandb.ai/daysm/id2223-lab2-1/runs/ajee4drk"
            ]
          },
          "metadata": {
            "tags": []
          },
          "execution_count": 23
        }
      ]
    },
    {
      "cell_type": "code",
      "metadata": {
        "id": "aETTDLaefEye",
        "colab_type": "code",
        "colab": {}
      },
      "source": [
        "import tensorflow as tf\n",
        "from tensorflow.keras.models import Model\n",
        "from tensorflow.keras.layers import Conv2D, MaxPool2D, Dropout, Dense, Input, concatenate, GlobalAveragePooling2D, AveragePooling2D, Flatten"
      ],
      "execution_count": 0,
      "outputs": []
    },
    {
      "cell_type": "code",
      "metadata": {
        "id": "bGwWOpjXfyAd",
        "colab_type": "code",
        "colab": {
          "base_uri": "https://localhost:8080/",
          "height": 34
        },
        "outputId": "39aa06c2-8291-4043-b1d9-fdb0342bb0f2"
      },
      "source": [
        "tf.__version__"
      ],
      "execution_count": 25,
      "outputs": [
        {
          "output_type": "execute_result",
          "data": {
            "text/plain": [
              "'2.0.0'"
            ]
          },
          "metadata": {
            "tags": []
          },
          "execution_count": 25
        }
      ]
    },
    {
      "cell_type": "code",
      "metadata": {
        "id": "ZVK0zIlNfEyi",
        "colab_type": "code",
        "colab": {}
      },
      "source": [
        "def inception_module(x,\n",
        "            filters_1x1,\n",
        "            filters_3x3_reduce,\n",
        "            filters_3x3,\n",
        "            filters_5x5_reduce,\n",
        "            filters_5x5,\n",
        "            filters_pool_proj,\n",
        "            name=None):\n",
        "    \n",
        "    conv_1x1 = Conv2D(filters_1x1, (1, 1), padding='same', activation='relu', kernel_initializer=kernel_init, bias_initializer=bias_init, name=name+\"_conv_1x1\")(x)\n",
        "    \n",
        "    conv_3x3_reduce = Conv2D(filters_3x3_reduce, (1, 1), padding='same', activation='relu', kernel_initializer=kernel_init, bias_initializer=bias_init, name=name+\"_conv_3x3_reduce\")(x)\n",
        "    conv_3x3 = Conv2D(filters_3x3, (3, 3), padding='same', activation='relu', kernel_initializer=kernel_init, bias_initializer=bias_init, name=name+\"_conv_3x3\")(conv_3x3_reduce)\n",
        "\n",
        "    conv_5x5_reduce = Conv2D(filters_5x5_reduce, (1, 1), padding='same', activation='relu', kernel_initializer=kernel_init, bias_initializer=bias_init, name=name+\"_conv_5x5_reduce\")(x)\n",
        "    conv_5x5 = Conv2D(filters_5x5, (5, 5), padding='same', activation='relu', kernel_initializer=kernel_init, bias_initializer=bias_init, name=name+\"_conv_5x5\")(conv_5x5_reduce)\n",
        "\n",
        "    max_pool_3x3 = MaxPool2D((3, 3), strides=(1, 1), padding='same', name=name+\"_max_pool_3x3\")(x)\n",
        "    pool_proj = Conv2D(filters_pool_proj, (1, 1), padding='same', activation='relu', kernel_initializer=kernel_init, bias_initializer=bias_init, name=name+\"_pool_proj\")(max_pool_3x3)\n",
        "\n",
        "    output = concatenate([conv_1x1, conv_3x3, conv_5x5, pool_proj], axis=3, name=name)\n",
        "    \n",
        "    return output"
      ],
      "execution_count": 0,
      "outputs": []
    },
    {
      "cell_type": "code",
      "metadata": {
        "id": "2Ny8mChSfEyo",
        "colab_type": "code",
        "colab": {}
      },
      "source": [
        ""
      ],
      "execution_count": 0,
      "outputs": []
    },
    {
      "cell_type": "code",
      "metadata": {
        "scrolled": false,
        "id": "Kn8PDmuPfEys",
        "colab_type": "code",
        "colab": {
          "base_uri": "https://localhost:8080/",
          "height": 1000
        },
        "outputId": "5a24cb9a-b02b-4eb3-aa92-b3f06da4460a"
      },
      "source": [
        "kernel_init = tf.keras.initializers.glorot_uniform()\n",
        "bias_init = tf.keras.initializers.Constant(value=0.2)\n",
        "\n",
        "input_layer = Input(shape=(224, 224, 3), name='input')\n",
        "\n",
        "# 1\n",
        "x = Conv2D(64, (7, 7), padding='same', strides=(2, 2), activation='relu', name='1_conv_7x7/2', kernel_initializer=kernel_init, bias_initializer=bias_init)(input_layer)\n",
        "x = MaxPool2D((3, 3), padding='same', strides=(2, 2), name='1_max_pool_3x3/2')(x)\n",
        "\n",
        "# 2\n",
        "x = Conv2D(64, (1, 1), padding='same', strides=(1, 1), activation='relu', name='2_conv_1x1/1')(x)\n",
        "x = Conv2D(192, (3, 3), padding='same', strides=(1, 1), activation='relu', name='2_conv_3x3/1')(x)\n",
        "x = MaxPool2D((3, 3), padding='same', strides=(2, 2), name='2_max_pool_3x3/2')(x)\n",
        "\n",
        "# 3a\n",
        "x = inception_module(x,\n",
        "                     filters_1x1=64,\n",
        "                     filters_3x3_reduce=96,\n",
        "                     filters_3x3=128,\n",
        "                     filters_5x5_reduce=16,\n",
        "                     filters_5x5=32,\n",
        "                     filters_pool_proj=32,\n",
        "                     name='3a_inception')\n",
        "# 3b\n",
        "x = inception_module(x,\n",
        "                     filters_1x1=128,\n",
        "                     filters_3x3_reduce=128,\n",
        "                     filters_3x3=192,\n",
        "                     filters_5x5_reduce=32,\n",
        "                     filters_5x5=96,\n",
        "                     filters_pool_proj=64,\n",
        "                     name='3b_inception')\n",
        "\n",
        "x = MaxPool2D((3, 3), padding='same', strides=(2, 2), name='3_max_pool_3x3/2')(x)\n",
        "\n",
        "# 4a\n",
        "x = inception_module(x,\n",
        "                     filters_1x1=192,\n",
        "                     filters_3x3_reduce=96,\n",
        "                     filters_3x3=208,\n",
        "                     filters_5x5_reduce=16,\n",
        "                     filters_5x5=48,\n",
        "                     filters_pool_proj=64,\n",
        "                     name='4a_inception')\n",
        "\n",
        "# 1st auxilliary classifier\n",
        "x1 = AveragePooling2D((5, 5), strides=3, name='aux1_avg_pool_5x5')(x)\n",
        "x1 = Conv2D(128, (1, 1), padding='same', activation='relu', name='aux1_conv_1x1_reduce')(x1)\n",
        "x1 = Flatten(name='aux1_flatten')(x1)\n",
        "x1 = Dense(1024, activation='relu', name='aux1_dense')(x1)\n",
        "x1 = Dropout(0.7, name='aux1_dropout')(x1)\n",
        "x1 = Dense(10, activation='softmax', name='aux1_output')(x1)\n",
        "\n",
        "# 4b\n",
        "x = inception_module(x,\n",
        "                     filters_1x1=160,\n",
        "                     filters_3x3_reduce=112,\n",
        "                     filters_3x3=224,\n",
        "                     filters_5x5_reduce=24,\n",
        "                     filters_5x5=64,\n",
        "                     filters_pool_proj=64,\n",
        "                     name='4b_inception')\n",
        "\n",
        "#4c\n",
        "x = inception_module(x,\n",
        "                     filters_1x1=128,\n",
        "                     filters_3x3_reduce=128,\n",
        "                     filters_3x3=256,\n",
        "                     filters_5x5_reduce=24,\n",
        "                     filters_5x5=64,\n",
        "                     filters_pool_proj=64,\n",
        "                     name='4c_inception')\n",
        "\n",
        "#4d\n",
        "x = inception_module(x,\n",
        "                     filters_1x1=112,\n",
        "                     filters_3x3_reduce=144,\n",
        "                     filters_3x3=288,\n",
        "                     filters_5x5_reduce=32,\n",
        "                     filters_5x5=64,\n",
        "                     filters_pool_proj=64,\n",
        "                     name='4d_inception')\n",
        "\n",
        "# 2nd auxilliary classifier\n",
        "x2 = AveragePooling2D((5, 5), strides=3, name='aux2_avg_pool_5x5')(x)\n",
        "x2 = Conv2D(128, (1, 1), padding='same', activation='relu', name='aux2_conv_1x1_reduce')(x2)\n",
        "x2 = Flatten(name='aux2_flatten')(x2)\n",
        "x2 = Dense(1024, activation='relu', name='aux2_dense')(x2)\n",
        "x2 = Dropout(0.7, name='aux2_dropout')(x2)\n",
        "x2 = Dense(10, activation='softmax', name='aux2_output')(x2)\n",
        "\n",
        "\n",
        "# 4e\n",
        "x = inception_module(x,\n",
        "                     filters_1x1=256,\n",
        "                     filters_3x3_reduce=160,\n",
        "                     filters_3x3=320,\n",
        "                     filters_5x5_reduce=32,\n",
        "                     filters_5x5=128,\n",
        "                     filters_pool_proj=128,\n",
        "                     name='4e_inception')\n",
        "\n",
        "x = MaxPool2D((3, 3), padding='same', strides=(2, 2), name='4_max_pool_4_3x3/2')(x)\n",
        "\n",
        "# 5a\n",
        "x = inception_module(x,\n",
        "                     filters_1x1=256,\n",
        "                     filters_3x3_reduce=160,\n",
        "                     filters_3x3=320,\n",
        "                     filters_5x5_reduce=32,\n",
        "                     filters_5x5=128,\n",
        "                     filters_pool_proj=128,\n",
        "                     name='5a_inception')\n",
        "\n",
        "# 5b\n",
        "x = inception_module(x,\n",
        "                     filters_1x1=384,\n",
        "                     filters_3x3_reduce=192,\n",
        "                     filters_3x3=384,\n",
        "                     filters_5x5_reduce=48,\n",
        "                     filters_5x5=128,\n",
        "                     filters_pool_proj=128,\n",
        "                     name='5b_inception')\n",
        "\n",
        "x = GlobalAveragePooling2D(name='5_avg_pool_3x3/1')(x)\n",
        "\n",
        "x = Dropout(0.4)(x)\n",
        "\n",
        "x = Dense(10, activation='softmax', name='output')(x)\n",
        "model = Model(input_layer, [x, x1, x2], name='inception_v1')\n",
        "model.summary()"
      ],
      "execution_count": 6,
      "outputs": [
        {
          "output_type": "stream",
          "text": [
            "WARNING:tensorflow:Large dropout rate: 0.7 (>0.5). In TensorFlow 2.x, dropout() uses dropout rate instead of keep_prob. Please ensure that this is intended.\n",
            "WARNING:tensorflow:Large dropout rate: 0.7 (>0.5). In TensorFlow 2.x, dropout() uses dropout rate instead of keep_prob. Please ensure that this is intended.\n",
            "Model: \"inception_v1\"\n",
            "__________________________________________________________________________________________________\n",
            "Layer (type)                    Output Shape         Param #     Connected to                     \n",
            "==================================================================================================\n",
            "input (InputLayer)              [(None, 224, 224, 3) 0                                            \n",
            "__________________________________________________________________________________________________\n",
            "1_conv_7x7/2 (Conv2D)           (None, 112, 112, 64) 9472        input[0][0]                      \n",
            "__________________________________________________________________________________________________\n",
            "1_max_pool_3x3/2 (MaxPooling2D) (None, 56, 56, 64)   0           1_conv_7x7/2[0][0]               \n",
            "__________________________________________________________________________________________________\n",
            "2_conv_1x1/1 (Conv2D)           (None, 56, 56, 64)   4160        1_max_pool_3x3/2[0][0]           \n",
            "__________________________________________________________________________________________________\n",
            "2_conv_3x3/1 (Conv2D)           (None, 56, 56, 192)  110784      2_conv_1x1/1[0][0]               \n",
            "__________________________________________________________________________________________________\n",
            "2_max_pool_3x3/2 (MaxPooling2D) (None, 28, 28, 192)  0           2_conv_3x3/1[0][0]               \n",
            "__________________________________________________________________________________________________\n",
            "3a_inception_conv_3x3_reduce (C (None, 28, 28, 96)   18528       2_max_pool_3x3/2[0][0]           \n",
            "__________________________________________________________________________________________________\n",
            "3a_inception_conv_5x5_reduce (C (None, 28, 28, 16)   3088        2_max_pool_3x3/2[0][0]           \n",
            "__________________________________________________________________________________________________\n",
            "3a_inception_max_pool_3x3 (MaxP (None, 28, 28, 192)  0           2_max_pool_3x3/2[0][0]           \n",
            "__________________________________________________________________________________________________\n",
            "3a_inception_conv_1x1 (Conv2D)  (None, 28, 28, 64)   12352       2_max_pool_3x3/2[0][0]           \n",
            "__________________________________________________________________________________________________\n",
            "3a_inception_conv_3x3 (Conv2D)  (None, 28, 28, 128)  110720      3a_inception_conv_3x3_reduce[0][0\n",
            "__________________________________________________________________________________________________\n",
            "3a_inception_conv_5x5 (Conv2D)  (None, 28, 28, 32)   12832       3a_inception_conv_5x5_reduce[0][0\n",
            "__________________________________________________________________________________________________\n",
            "3a_inception_pool_proj (Conv2D) (None, 28, 28, 32)   6176        3a_inception_max_pool_3x3[0][0]  \n",
            "__________________________________________________________________________________________________\n",
            "3a_inception (Concatenate)      (None, 28, 28, 256)  0           3a_inception_conv_1x1[0][0]      \n",
            "                                                                 3a_inception_conv_3x3[0][0]      \n",
            "                                                                 3a_inception_conv_5x5[0][0]      \n",
            "                                                                 3a_inception_pool_proj[0][0]     \n",
            "__________________________________________________________________________________________________\n",
            "3b_inception_conv_3x3_reduce (C (None, 28, 28, 128)  32896       3a_inception[0][0]               \n",
            "__________________________________________________________________________________________________\n",
            "3b_inception_conv_5x5_reduce (C (None, 28, 28, 32)   8224        3a_inception[0][0]               \n",
            "__________________________________________________________________________________________________\n",
            "3b_inception_max_pool_3x3 (MaxP (None, 28, 28, 256)  0           3a_inception[0][0]               \n",
            "__________________________________________________________________________________________________\n",
            "3b_inception_conv_1x1 (Conv2D)  (None, 28, 28, 128)  32896       3a_inception[0][0]               \n",
            "__________________________________________________________________________________________________\n",
            "3b_inception_conv_3x3 (Conv2D)  (None, 28, 28, 192)  221376      3b_inception_conv_3x3_reduce[0][0\n",
            "__________________________________________________________________________________________________\n",
            "3b_inception_conv_5x5 (Conv2D)  (None, 28, 28, 96)   76896       3b_inception_conv_5x5_reduce[0][0\n",
            "__________________________________________________________________________________________________\n",
            "3b_inception_pool_proj (Conv2D) (None, 28, 28, 64)   16448       3b_inception_max_pool_3x3[0][0]  \n",
            "__________________________________________________________________________________________________\n",
            "3b_inception (Concatenate)      (None, 28, 28, 480)  0           3b_inception_conv_1x1[0][0]      \n",
            "                                                                 3b_inception_conv_3x3[0][0]      \n",
            "                                                                 3b_inception_conv_5x5[0][0]      \n",
            "                                                                 3b_inception_pool_proj[0][0]     \n",
            "__________________________________________________________________________________________________\n",
            "3_max_pool_3x3/2 (MaxPooling2D) (None, 14, 14, 480)  0           3b_inception[0][0]               \n",
            "__________________________________________________________________________________________________\n",
            "4a_inception_conv_3x3_reduce (C (None, 14, 14, 96)   46176       3_max_pool_3x3/2[0][0]           \n",
            "__________________________________________________________________________________________________\n",
            "4a_inception_conv_5x5_reduce (C (None, 14, 14, 16)   7696        3_max_pool_3x3/2[0][0]           \n",
            "__________________________________________________________________________________________________\n",
            "4a_inception_max_pool_3x3 (MaxP (None, 14, 14, 480)  0           3_max_pool_3x3/2[0][0]           \n",
            "__________________________________________________________________________________________________\n",
            "4a_inception_conv_1x1 (Conv2D)  (None, 14, 14, 192)  92352       3_max_pool_3x3/2[0][0]           \n",
            "__________________________________________________________________________________________________\n",
            "4a_inception_conv_3x3 (Conv2D)  (None, 14, 14, 208)  179920      4a_inception_conv_3x3_reduce[0][0\n",
            "__________________________________________________________________________________________________\n",
            "4a_inception_conv_5x5 (Conv2D)  (None, 14, 14, 48)   19248       4a_inception_conv_5x5_reduce[0][0\n",
            "__________________________________________________________________________________________________\n",
            "4a_inception_pool_proj (Conv2D) (None, 14, 14, 64)   30784       4a_inception_max_pool_3x3[0][0]  \n",
            "__________________________________________________________________________________________________\n",
            "4a_inception (Concatenate)      (None, 14, 14, 512)  0           4a_inception_conv_1x1[0][0]      \n",
            "                                                                 4a_inception_conv_3x3[0][0]      \n",
            "                                                                 4a_inception_conv_5x5[0][0]      \n",
            "                                                                 4a_inception_pool_proj[0][0]     \n",
            "__________________________________________________________________________________________________\n",
            "4b_inception_conv_3x3_reduce (C (None, 14, 14, 112)  57456       4a_inception[0][0]               \n",
            "__________________________________________________________________________________________________\n",
            "4b_inception_conv_5x5_reduce (C (None, 14, 14, 24)   12312       4a_inception[0][0]               \n",
            "__________________________________________________________________________________________________\n",
            "4b_inception_max_pool_3x3 (MaxP (None, 14, 14, 512)  0           4a_inception[0][0]               \n",
            "__________________________________________________________________________________________________\n",
            "4b_inception_conv_1x1 (Conv2D)  (None, 14, 14, 160)  82080       4a_inception[0][0]               \n",
            "__________________________________________________________________________________________________\n",
            "4b_inception_conv_3x3 (Conv2D)  (None, 14, 14, 224)  226016      4b_inception_conv_3x3_reduce[0][0\n",
            "__________________________________________________________________________________________________\n",
            "4b_inception_conv_5x5 (Conv2D)  (None, 14, 14, 64)   38464       4b_inception_conv_5x5_reduce[0][0\n",
            "__________________________________________________________________________________________________\n",
            "4b_inception_pool_proj (Conv2D) (None, 14, 14, 64)   32832       4b_inception_max_pool_3x3[0][0]  \n",
            "__________________________________________________________________________________________________\n",
            "4b_inception (Concatenate)      (None, 14, 14, 512)  0           4b_inception_conv_1x1[0][0]      \n",
            "                                                                 4b_inception_conv_3x3[0][0]      \n",
            "                                                                 4b_inception_conv_5x5[0][0]      \n",
            "                                                                 4b_inception_pool_proj[0][0]     \n",
            "__________________________________________________________________________________________________\n",
            "4c_inception_conv_3x3_reduce (C (None, 14, 14, 128)  65664       4b_inception[0][0]               \n",
            "__________________________________________________________________________________________________\n",
            "4c_inception_conv_5x5_reduce (C (None, 14, 14, 24)   12312       4b_inception[0][0]               \n",
            "__________________________________________________________________________________________________\n",
            "4c_inception_max_pool_3x3 (MaxP (None, 14, 14, 512)  0           4b_inception[0][0]               \n",
            "__________________________________________________________________________________________________\n",
            "4c_inception_conv_1x1 (Conv2D)  (None, 14, 14, 128)  65664       4b_inception[0][0]               \n",
            "__________________________________________________________________________________________________\n",
            "4c_inception_conv_3x3 (Conv2D)  (None, 14, 14, 256)  295168      4c_inception_conv_3x3_reduce[0][0\n",
            "__________________________________________________________________________________________________\n",
            "4c_inception_conv_5x5 (Conv2D)  (None, 14, 14, 64)   38464       4c_inception_conv_5x5_reduce[0][0\n",
            "__________________________________________________________________________________________________\n",
            "4c_inception_pool_proj (Conv2D) (None, 14, 14, 64)   32832       4c_inception_max_pool_3x3[0][0]  \n",
            "__________________________________________________________________________________________________\n",
            "4c_inception (Concatenate)      (None, 14, 14, 512)  0           4c_inception_conv_1x1[0][0]      \n",
            "                                                                 4c_inception_conv_3x3[0][0]      \n",
            "                                                                 4c_inception_conv_5x5[0][0]      \n",
            "                                                                 4c_inception_pool_proj[0][0]     \n",
            "__________________________________________________________________________________________________\n",
            "4d_inception_conv_3x3_reduce (C (None, 14, 14, 144)  73872       4c_inception[0][0]               \n",
            "__________________________________________________________________________________________________\n",
            "4d_inception_conv_5x5_reduce (C (None, 14, 14, 32)   16416       4c_inception[0][0]               \n",
            "__________________________________________________________________________________________________\n",
            "4d_inception_max_pool_3x3 (MaxP (None, 14, 14, 512)  0           4c_inception[0][0]               \n",
            "__________________________________________________________________________________________________\n",
            "4d_inception_conv_1x1 (Conv2D)  (None, 14, 14, 112)  57456       4c_inception[0][0]               \n",
            "__________________________________________________________________________________________________\n",
            "4d_inception_conv_3x3 (Conv2D)  (None, 14, 14, 288)  373536      4d_inception_conv_3x3_reduce[0][0\n",
            "__________________________________________________________________________________________________\n",
            "4d_inception_conv_5x5 (Conv2D)  (None, 14, 14, 64)   51264       4d_inception_conv_5x5_reduce[0][0\n",
            "__________________________________________________________________________________________________\n",
            "4d_inception_pool_proj (Conv2D) (None, 14, 14, 64)   32832       4d_inception_max_pool_3x3[0][0]  \n",
            "__________________________________________________________________________________________________\n",
            "4d_inception (Concatenate)      (None, 14, 14, 528)  0           4d_inception_conv_1x1[0][0]      \n",
            "                                                                 4d_inception_conv_3x3[0][0]      \n",
            "                                                                 4d_inception_conv_5x5[0][0]      \n",
            "                                                                 4d_inception_pool_proj[0][0]     \n",
            "__________________________________________________________________________________________________\n",
            "4e_inception_conv_3x3_reduce (C (None, 14, 14, 160)  84640       4d_inception[0][0]               \n",
            "__________________________________________________________________________________________________\n",
            "4e_inception_conv_5x5_reduce (C (None, 14, 14, 32)   16928       4d_inception[0][0]               \n",
            "__________________________________________________________________________________________________\n",
            "4e_inception_max_pool_3x3 (MaxP (None, 14, 14, 528)  0           4d_inception[0][0]               \n",
            "__________________________________________________________________________________________________\n",
            "4e_inception_conv_1x1 (Conv2D)  (None, 14, 14, 256)  135424      4d_inception[0][0]               \n",
            "__________________________________________________________________________________________________\n",
            "4e_inception_conv_3x3 (Conv2D)  (None, 14, 14, 320)  461120      4e_inception_conv_3x3_reduce[0][0\n",
            "__________________________________________________________________________________________________\n",
            "4e_inception_conv_5x5 (Conv2D)  (None, 14, 14, 128)  102528      4e_inception_conv_5x5_reduce[0][0\n",
            "__________________________________________________________________________________________________\n",
            "4e_inception_pool_proj (Conv2D) (None, 14, 14, 128)  67712       4e_inception_max_pool_3x3[0][0]  \n",
            "__________________________________________________________________________________________________\n",
            "4e_inception (Concatenate)      (None, 14, 14, 832)  0           4e_inception_conv_1x1[0][0]      \n",
            "                                                                 4e_inception_conv_3x3[0][0]      \n",
            "                                                                 4e_inception_conv_5x5[0][0]      \n",
            "                                                                 4e_inception_pool_proj[0][0]     \n",
            "__________________________________________________________________________________________________\n",
            "4_max_pool_4_3x3/2 (MaxPooling2 (None, 7, 7, 832)    0           4e_inception[0][0]               \n",
            "__________________________________________________________________________________________________\n",
            "5a_inception_conv_3x3_reduce (C (None, 7, 7, 160)    133280      4_max_pool_4_3x3/2[0][0]         \n",
            "__________________________________________________________________________________________________\n",
            "5a_inception_conv_5x5_reduce (C (None, 7, 7, 32)     26656       4_max_pool_4_3x3/2[0][0]         \n",
            "__________________________________________________________________________________________________\n",
            "5a_inception_max_pool_3x3 (MaxP (None, 7, 7, 832)    0           4_max_pool_4_3x3/2[0][0]         \n",
            "__________________________________________________________________________________________________\n",
            "5a_inception_conv_1x1 (Conv2D)  (None, 7, 7, 256)    213248      4_max_pool_4_3x3/2[0][0]         \n",
            "__________________________________________________________________________________________________\n",
            "5a_inception_conv_3x3 (Conv2D)  (None, 7, 7, 320)    461120      5a_inception_conv_3x3_reduce[0][0\n",
            "__________________________________________________________________________________________________\n",
            "5a_inception_conv_5x5 (Conv2D)  (None, 7, 7, 128)    102528      5a_inception_conv_5x5_reduce[0][0\n",
            "__________________________________________________________________________________________________\n",
            "5a_inception_pool_proj (Conv2D) (None, 7, 7, 128)    106624      5a_inception_max_pool_3x3[0][0]  \n",
            "__________________________________________________________________________________________________\n",
            "5a_inception (Concatenate)      (None, 7, 7, 832)    0           5a_inception_conv_1x1[0][0]      \n",
            "                                                                 5a_inception_conv_3x3[0][0]      \n",
            "                                                                 5a_inception_conv_5x5[0][0]      \n",
            "                                                                 5a_inception_pool_proj[0][0]     \n",
            "__________________________________________________________________________________________________\n",
            "5b_inception_conv_3x3_reduce (C (None, 7, 7, 192)    159936      5a_inception[0][0]               \n",
            "__________________________________________________________________________________________________\n",
            "5b_inception_conv_5x5_reduce (C (None, 7, 7, 48)     39984       5a_inception[0][0]               \n",
            "__________________________________________________________________________________________________\n",
            "5b_inception_max_pool_3x3 (MaxP (None, 7, 7, 832)    0           5a_inception[0][0]               \n",
            "__________________________________________________________________________________________________\n",
            "aux1_avg_pool_5x5 (AveragePooli (None, 4, 4, 512)    0           4a_inception[0][0]               \n",
            "__________________________________________________________________________________________________\n",
            "aux2_avg_pool_5x5 (AveragePooli (None, 4, 4, 528)    0           4d_inception[0][0]               \n",
            "__________________________________________________________________________________________________\n",
            "5b_inception_conv_1x1 (Conv2D)  (None, 7, 7, 384)    319872      5a_inception[0][0]               \n",
            "__________________________________________________________________________________________________\n",
            "5b_inception_conv_3x3 (Conv2D)  (None, 7, 7, 384)    663936      5b_inception_conv_3x3_reduce[0][0\n",
            "__________________________________________________________________________________________________\n",
            "5b_inception_conv_5x5 (Conv2D)  (None, 7, 7, 128)    153728      5b_inception_conv_5x5_reduce[0][0\n",
            "__________________________________________________________________________________________________\n",
            "5b_inception_pool_proj (Conv2D) (None, 7, 7, 128)    106624      5b_inception_max_pool_3x3[0][0]  \n",
            "__________________________________________________________________________________________________\n",
            "aux1_conv_1x1_reduce (Conv2D)   (None, 4, 4, 128)    65664       aux1_avg_pool_5x5[0][0]          \n",
            "__________________________________________________________________________________________________\n",
            "aux2_conv_1x1_reduce (Conv2D)   (None, 4, 4, 128)    67712       aux2_avg_pool_5x5[0][0]          \n",
            "__________________________________________________________________________________________________\n",
            "5b_inception (Concatenate)      (None, 7, 7, 1024)   0           5b_inception_conv_1x1[0][0]      \n",
            "                                                                 5b_inception_conv_3x3[0][0]      \n",
            "                                                                 5b_inception_conv_5x5[0][0]      \n",
            "                                                                 5b_inception_pool_proj[0][0]     \n",
            "__________________________________________________________________________________________________\n",
            "aux1_flatten (Flatten)          (None, 2048)         0           aux1_conv_1x1_reduce[0][0]       \n",
            "__________________________________________________________________________________________________\n",
            "aux2_flatten (Flatten)          (None, 2048)         0           aux2_conv_1x1_reduce[0][0]       \n",
            "__________________________________________________________________________________________________\n",
            "5_avg_pool_3x3/1 (GlobalAverage (None, 1024)         0           5b_inception[0][0]               \n",
            "__________________________________________________________________________________________________\n",
            "aux1_dense (Dense)              (None, 1024)         2098176     aux1_flatten[0][0]               \n",
            "__________________________________________________________________________________________________\n",
            "aux2_dense (Dense)              (None, 1024)         2098176     aux2_flatten[0][0]               \n",
            "__________________________________________________________________________________________________\n",
            "dropout (Dropout)               (None, 1024)         0           5_avg_pool_3x3/1[0][0]           \n",
            "__________________________________________________________________________________________________\n",
            "aux1_dropout (Dropout)          (None, 1024)         0           aux1_dense[0][0]                 \n",
            "__________________________________________________________________________________________________\n",
            "aux2_dropout (Dropout)          (None, 1024)         0           aux2_dense[0][0]                 \n",
            "__________________________________________________________________________________________________\n",
            "output (Dense)                  (None, 10)           10250       dropout[0][0]                    \n",
            "__________________________________________________________________________________________________\n",
            "aux1_output (Dense)             (None, 10)           10250       aux1_dropout[0][0]               \n",
            "__________________________________________________________________________________________________\n",
            "aux2_output (Dense)             (None, 10)           10250       aux2_dropout[0][0]               \n",
            "==================================================================================================\n",
            "Total params: 10,334,030\n",
            "Trainable params: 10,334,030\n",
            "Non-trainable params: 0\n",
            "__________________________________________________________________________________________________\n"
          ],
          "name": "stdout"
        }
      ]
    },
    {
      "cell_type": "code",
      "metadata": {
        "id": "DF95MgAvfEyz",
        "colab_type": "code",
        "colab": {}
      },
      "source": [
        "import numpy as np \n",
        "import cv2\n",
        "from tensorflow.keras.datasets import cifar10\n",
        "\n",
        "num_classes = 10\n",
        "\n",
        "def load_cifar10_data(img_rows, img_cols):\n",
        "\n",
        "    # Load cifar10 training and validation sets\n",
        "    (X_train, y_train), (X_valid, y_valid) = cifar10.load_data()\n",
        "\n",
        "    # Resize training images\n",
        "    X_train = np.array([cv2.resize(img, (img_rows,img_cols)) for img in X_train[:10000,:,:,:]]).astype('float32') / 255.0\n",
        "    X_valid = np.array([cv2.resize(img, (img_rows,img_cols)) for img in X_valid[:2000,:,:,:]]).astype('float32') / 255.0\n",
        "\n",
        "    # Transform targets to keras compatible format\n",
        "    y_train = tf.keras.utils.to_categorical(y_train[:10000], num_classes)\n",
        "    y_valid = tf.keras.utils.to_categorical(y_valid[:2000], num_classes)\n",
        "\n",
        "    return X_train, y_train, X_valid, y_valid\n",
        "\n",
        "X_train, y_train, X_test, y_test = load_cifar10_data(224, 224)"
      ],
      "execution_count": 0,
      "outputs": []
    },
    {
      "cell_type": "code",
      "metadata": {
        "id": "QKwSqBfkpzEO",
        "colab_type": "code",
        "colab": {}
      },
      "source": [
        "import math \n",
        "from tensorflow.keras.optimizers import SGD \n",
        "from tensorflow.keras.callbacks import LearningRateScheduler\n",
        "\n",
        "epochs = 25\n",
        "initial_lrate = 0.01\n",
        "\n",
        "def decay(epoch, steps=100):\n",
        "    initial_lrate = 0.01\n",
        "    drop = 0.96\n",
        "    epochs_drop = 8\n",
        "    lrate = initial_lrate * math.pow(drop, math.floor((1+epoch)/epochs_drop))\n",
        "    return lrate\n",
        "\n",
        "sgd = SGD(lr=initial_lrate, momentum=0.9, nesterov=False)\n",
        "\n",
        "lr_sc = LearningRateScheduler(decay, verbose=1)\n",
        "\n",
        "model.compile(loss=['categorical_crossentropy', 'categorical_crossentropy', 'categorical_crossentropy'], loss_weights=[1, 0.3, 0.3], optimizer=sgd, metrics=['accuracy'])"
      ],
      "execution_count": 0,
      "outputs": []
    },
    {
      "cell_type": "code",
      "metadata": {
        "id": "7IHjTxoBp6PI",
        "colab_type": "code",
        "colab": {
          "base_uri": "https://localhost:8080/",
          "height": 190
        },
        "outputId": "f494b966-1ab5-4b39-99a9-f5a207f5dfdb"
      },
      "source": [
        "from wandb.keras import WandbCallback\n",
        "\n",
        "history = model.fit(X_train, [y_train, y_train, y_train], validation_data=(X_test, [y_test, y_test, y_test]), epochs=epochs, batch_size=256, callbacks=[lr_sc, WandbCallback()])"
      ],
      "execution_count": 0,
      "outputs": [
        {
          "output_type": "stream",
          "text": [
            "Train on 10000 samples, validate on 2000 samples\n",
            "\n",
            "Epoch 00001: LearningRateScheduler reducing learning rate to 0.01.\n",
            "Epoch 1/25\n",
            "10000/10000 [==============================] - 1517s 152ms/sample - loss: 3.7516 - output_loss: 2.3612 - aux1_output_loss: 2.3215 - aux2_output_loss: 2.3151 - output_accuracy: 0.0991 - aux1_output_accuracy: 0.1020 - aux2_output_accuracy: 0.1049 - val_loss: 3.6893 - val_output_loss: 2.3086 - val_aux1_output_loss: 2.3007 - val_aux2_output_loss: 2.3021 - val_output_accuracy: 0.0990 - val_aux1_output_accuracy: 0.1015 - val_aux2_output_accuracy: 0.0990\n",
            "\n",
            "Epoch 00002: LearningRateScheduler reducing learning rate to 0.01.\n",
            "Epoch 2/25\n",
            " 2560/10000 [======>.......................] - ETA: 17:52 - loss: 3.7118 - output_loss: 2.3284 - aux1_output_loss: 2.3045 - aux2_output_loss: 2.3068 - output_accuracy: 0.0973 - aux1_output_accuracy: 0.1133 - aux2_output_accuracy: 0.0969"
          ],
          "name": "stdout"
        }
      ]
    },
    {
      "cell_type": "code",
      "metadata": {
        "id": "8kTcp-7LqZZM",
        "colab_type": "code",
        "colab": {}
      },
      "source": [
        ""
      ],
      "execution_count": 0,
      "outputs": []
    }
  ]
}